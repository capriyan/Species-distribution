{
 "cells": [
  {
   "cell_type": "markdown",
   "metadata": {},
   "source": [
    "# Species Distribution Heatmaps"
   ]
  },
  {
   "cell_type": "markdown",
   "metadata": {},
   "source": [
    "Modeling geographical distributions of the species is important in coservation and research. In this notebook I'll use ***species distributions*** dataset from sklearn to model distributions of two species in South America."
   ]
  },
  {
   "cell_type": "markdown",
   "metadata": {},
   "source": [
    "## The Dataset"
   ]
  },
  {
   "cell_type": "markdown",
   "metadata": {},
   "source": [
    "This dataset is originally created by Phillips et. al. (2006). Their original paper can be found [here](http://rob.schapire.net/papers/ecolmod.pdf)."
   ]
  },
  {
   "cell_type": "markdown",
   "metadata": {},
   "source": [
    "There are two species in this dataset"
   ]
  },
  {
   "cell_type": "markdown",
   "metadata": {},
   "source": [
    "### Bradypus Variegatus  (*the Brown-throated Sloth*)"
   ]
  },
  {
   "cell_type": "markdown",
   "metadata": {},
   "source": [
    "<img src=\"images/Bradypus_variegatus.jpg\" alt=\"drawing\" style=\"max-height:300px;\"/>"
   ]
  },
  {
   "cell_type": "markdown",
   "metadata": {},
   "source": [
    "### Microryzomys Minutus (*the Forest Small Rice Rat*)"
   ]
  },
  {
   "cell_type": "markdown",
   "metadata": {},
   "source": [
    "<img src=\"images/Microryzomys_minutus.jpg\" alt=\"drawing\" style=\"max-height:300px;\"/>"
   ]
  },
  {
   "cell_type": "code",
   "execution_count": 1,
   "metadata": {},
   "outputs": [],
   "source": [
    "import pandas as pd\n",
    "import numpy as np\n",
    "import matplotlib.pyplot as plt\n",
    "from sklearn.datasets import fetch_species_distributions\n",
    "import re\n",
    "import folium\n",
    "from folium.plugins import HeatMap"
   ]
  },
  {
   "cell_type": "markdown",
   "metadata": {},
   "source": [
    "## Fetching Data"
   ]
  },
  {
   "cell_type": "code",
   "execution_count": 2,
   "metadata": {},
   "outputs": [],
   "source": [
    "data = fetch_species_distributions()"
   ]
  },
  {
   "cell_type": "markdown",
   "metadata": {},
   "source": [
    "This function loads and returns dictinary like sklearn **Bunch** object. "
   ]
  },
  {
   "cell_type": "code",
   "execution_count": 3,
   "metadata": {},
   "outputs": [
    {
     "data": {
      "text/plain": [
       "sklearn.utils.Bunch"
      ]
     },
     "execution_count": 3,
     "metadata": {},
     "output_type": "execute_result"
    }
   ],
   "source": [
    "type(data)"
   ]
  },
  {
   "cell_type": "markdown",
   "metadata": {},
   "source": [
    "We can convert that Bunch to a Pandas dataframe for better analysis. The dataset contains separated training set and a test set. For the purpose of this notebook we can concat these two sets."
   ]
  },
  {
   "cell_type": "code",
   "execution_count": 4,
   "metadata": {},
   "outputs": [],
   "source": [
    "df_train = pd.DataFrame(data.train)\n",
    "df_test = pd.DataFrame(data.test)\n",
    "df = pd.concat([df_train, df_test])"
   ]
  },
  {
   "cell_type": "code",
   "execution_count": 5,
   "metadata": {},
   "outputs": [
    {
     "data": {
      "text/plain": [
       "(2244, 3)"
      ]
     },
     "execution_count": 5,
     "metadata": {},
     "output_type": "execute_result"
    }
   ],
   "source": [
    "df.shape"
   ]
  },
  {
   "cell_type": "markdown",
   "metadata": {},
   "source": [
    "The dataframe contains 2244 rows and 3 columns. let's see what are those columns"
   ]
  },
  {
   "cell_type": "code",
   "execution_count": 6,
   "metadata": {},
   "outputs": [
    {
     "data": {
      "text/plain": [
       "Index(['species', 'dd long', 'dd lat'], dtype='object')"
      ]
     },
     "execution_count": 6,
     "metadata": {},
     "output_type": "execute_result"
    }
   ],
   "source": [
    "df.columns"
   ]
  },
  {
   "cell_type": "markdown",
   "metadata": {},
   "source": [
    "## Data Preprocessing"
   ]
  },
  {
   "cell_type": "markdown",
   "metadata": {},
   "source": [
    "In the column indexes longitude column is followed by the latitude column. However in folium functions, location data is expenced as a list object where latitude is the first value and longitude is the second. So, to minimize the confusions in the later steps Pandas data frame can be reidexed."
   ]
  },
  {
   "cell_type": "code",
   "execution_count": 7,
   "metadata": {},
   "outputs": [],
   "source": [
    "df = df.reindex(columns=['species', 'dd lat', 'dd long'])"
   ]
  },
  {
   "cell_type": "markdown",
   "metadata": {},
   "source": [
    "Now let's see how the data is represented in the dataframe"
   ]
  },
  {
   "cell_type": "code",
   "execution_count": 8,
   "metadata": {},
   "outputs": [
    {
     "data": {
      "text/html": [
       "<div>\n",
       "<style scoped>\n",
       "    .dataframe tbody tr th:only-of-type {\n",
       "        vertical-align: middle;\n",
       "    }\n",
       "\n",
       "    .dataframe tbody tr th {\n",
       "        vertical-align: top;\n",
       "    }\n",
       "\n",
       "    .dataframe thead th {\n",
       "        text-align: right;\n",
       "    }\n",
       "</style>\n",
       "<table border=\"1\" class=\"dataframe\">\n",
       "  <thead>\n",
       "    <tr style=\"text-align: right;\">\n",
       "      <th></th>\n",
       "      <th>species</th>\n",
       "      <th>dd lat</th>\n",
       "      <th>dd long</th>\n",
       "    </tr>\n",
       "  </thead>\n",
       "  <tbody>\n",
       "    <tr>\n",
       "      <th>102</th>\n",
       "      <td>b'microryzomys_minutus_1'</td>\n",
       "      <td>-6.90000</td>\n",
       "      <td>-79.050003</td>\n",
       "    </tr>\n",
       "    <tr>\n",
       "      <th>290</th>\n",
       "      <td>b'microryzomys_minutus_4'</td>\n",
       "      <td>-9.70000</td>\n",
       "      <td>-76.033302</td>\n",
       "    </tr>\n",
       "    <tr>\n",
       "      <th>1301</th>\n",
       "      <td>b'microryzomys_minutus_7'</td>\n",
       "      <td>-0.45000</td>\n",
       "      <td>-77.883301</td>\n",
       "    </tr>\n",
       "    <tr>\n",
       "      <th>521</th>\n",
       "      <td>b'bradypus_variegatus_2'</td>\n",
       "      <td>-0.20000</td>\n",
       "      <td>-74.766701</td>\n",
       "    </tr>\n",
       "    <tr>\n",
       "      <th>478</th>\n",
       "      <td>b'microryzomys_minutus_1'</td>\n",
       "      <td>10.91667</td>\n",
       "      <td>-73.500000</td>\n",
       "    </tr>\n",
       "  </tbody>\n",
       "</table>\n",
       "</div>"
      ],
      "text/plain": [
       "                        species    dd lat    dd long\n",
       "102   b'microryzomys_minutus_1'  -6.90000 -79.050003\n",
       "290   b'microryzomys_minutus_4'  -9.70000 -76.033302\n",
       "1301  b'microryzomys_minutus_7'  -0.45000 -77.883301\n",
       "521    b'bradypus_variegatus_2'  -0.20000 -74.766701\n",
       "478   b'microryzomys_minutus_1'  10.91667 -73.500000"
      ]
     },
     "execution_count": 8,
     "metadata": {},
     "output_type": "execute_result"
    }
   ],
   "source": [
    "df.sample(5)"
   ]
  },
  {
   "cell_type": "markdown",
   "metadata": {},
   "source": [
    "Looks like the species data is stored as byte arrays. And there are some numbers at the end that might be related to the time period when the data was taken. We can simply convert the species data so that it contains only the names of the two species."
   ]
  },
  {
   "cell_type": "code",
   "execution_count": 9,
   "metadata": {},
   "outputs": [
    {
     "data": {
      "text/plain": [
       "array([b'microryzomys_minutus', b'bradypus_variegatus',\n",
       "       b'bradypus_variegatus_0', b'microryzomys_minutus_0',\n",
       "       b'bradypus_variegatus_1', b'microryzomys_minutus_1',\n",
       "       b'bradypus_variegatus_2', b'microryzomys_minutus_2',\n",
       "       b'bradypus_variegatus_3', b'microryzomys_minutus_3',\n",
       "       b'bradypus_variegatus_4', b'microryzomys_minutus_4',\n",
       "       b'bradypus_variegatus_5', b'microryzomys_minutus_5',\n",
       "       b'bradypus_variegatus_6', b'microryzomys_minutus_6',\n",
       "       b'bradypus_variegatus_7', b'microryzomys_minutus_7',\n",
       "       b'bradypus_variegatus_8', b'microryzomys_minutus_8',\n",
       "       b'bradypus_variegatus_9', b'microryzomys_minutus_9'], dtype=object)"
      ]
     },
     "execution_count": 9,
     "metadata": {},
     "output_type": "execute_result"
    }
   ],
   "source": [
    "df.species.unique()"
   ]
  },
  {
   "cell_type": "code",
   "execution_count": 10,
   "metadata": {},
   "outputs": [],
   "source": [
    "df['species'] = df['species'].apply(lambda x : re.sub('_\\d', '', x.decode('ascii')))"
   ]
  },
  {
   "cell_type": "markdown",
   "metadata": {},
   "source": [
    "After that the data looks like this"
   ]
  },
  {
   "cell_type": "code",
   "execution_count": 11,
   "metadata": {},
   "outputs": [
    {
     "data": {
      "text/html": [
       "<div>\n",
       "<style scoped>\n",
       "    .dataframe tbody tr th:only-of-type {\n",
       "        vertical-align: middle;\n",
       "    }\n",
       "\n",
       "    .dataframe tbody tr th {\n",
       "        vertical-align: top;\n",
       "    }\n",
       "\n",
       "    .dataframe thead th {\n",
       "        text-align: right;\n",
       "    }\n",
       "</style>\n",
       "<table border=\"1\" class=\"dataframe\">\n",
       "  <thead>\n",
       "    <tr style=\"text-align: right;\">\n",
       "      <th></th>\n",
       "      <th>species</th>\n",
       "      <th>dd lat</th>\n",
       "      <th>dd long</th>\n",
       "    </tr>\n",
       "  </thead>\n",
       "  <tbody>\n",
       "    <tr>\n",
       "      <th>404</th>\n",
       "      <td>bradypus_variegatus</td>\n",
       "      <td>9.283300</td>\n",
       "      <td>-79.599998</td>\n",
       "    </tr>\n",
       "    <tr>\n",
       "      <th>1169</th>\n",
       "      <td>microryzomys_minutus</td>\n",
       "      <td>4.433333</td>\n",
       "      <td>-75.366699</td>\n",
       "    </tr>\n",
       "    <tr>\n",
       "      <th>1125</th>\n",
       "      <td>bradypus_variegatus</td>\n",
       "      <td>8.950000</td>\n",
       "      <td>-79.583298</td>\n",
       "    </tr>\n",
       "    <tr>\n",
       "      <th>1088</th>\n",
       "      <td>bradypus_variegatus</td>\n",
       "      <td>9.116700</td>\n",
       "      <td>-74.733299</td>\n",
       "    </tr>\n",
       "    <tr>\n",
       "      <th>235</th>\n",
       "      <td>bradypus_variegatus</td>\n",
       "      <td>12.350000</td>\n",
       "      <td>-71.316704</td>\n",
       "    </tr>\n",
       "    <tr>\n",
       "      <th>818</th>\n",
       "      <td>bradypus_variegatus</td>\n",
       "      <td>3.683300</td>\n",
       "      <td>-77.083298</td>\n",
       "    </tr>\n",
       "    <tr>\n",
       "      <th>5</th>\n",
       "      <td>bradypus_variegatus</td>\n",
       "      <td>-3.450000</td>\n",
       "      <td>-55.283298</td>\n",
       "    </tr>\n",
       "    <tr>\n",
       "      <th>541</th>\n",
       "      <td>bradypus_variegatus</td>\n",
       "      <td>9.300000</td>\n",
       "      <td>-82.400002</td>\n",
       "    </tr>\n",
       "    <tr>\n",
       "      <th>589</th>\n",
       "      <td>bradypus_variegatus</td>\n",
       "      <td>-3.766700</td>\n",
       "      <td>-73.250000</td>\n",
       "    </tr>\n",
       "    <tr>\n",
       "      <th>96</th>\n",
       "      <td>bradypus_variegatus</td>\n",
       "      <td>9.150000</td>\n",
       "      <td>-72.599998</td>\n",
       "    </tr>\n",
       "  </tbody>\n",
       "</table>\n",
       "</div>"
      ],
      "text/plain": [
       "                   species     dd lat    dd long\n",
       "404    bradypus_variegatus   9.283300 -79.599998\n",
       "1169  microryzomys_minutus   4.433333 -75.366699\n",
       "1125   bradypus_variegatus   8.950000 -79.583298\n",
       "1088   bradypus_variegatus   9.116700 -74.733299\n",
       "235    bradypus_variegatus  12.350000 -71.316704\n",
       "818    bradypus_variegatus   3.683300 -77.083298\n",
       "5      bradypus_variegatus  -3.450000 -55.283298\n",
       "541    bradypus_variegatus   9.300000 -82.400002\n",
       "589    bradypus_variegatus  -3.766700 -73.250000\n",
       "96     bradypus_variegatus   9.150000 -72.599998"
      ]
     },
     "execution_count": 11,
     "metadata": {},
     "output_type": "execute_result"
    }
   ],
   "source": [
    "df.sample(10)"
   ]
  },
  {
   "cell_type": "markdown",
   "metadata": {},
   "source": [
    "### Here is a summary of the data"
   ]
  },
  {
   "cell_type": "code",
   "execution_count": 12,
   "metadata": {},
   "outputs": [
    {
     "data": {
      "text/plain": [
       "array(['microryzomys_minutus', 'bradypus_variegatus'], dtype=object)"
      ]
     },
     "execution_count": 12,
     "metadata": {},
     "output_type": "execute_result"
    }
   ],
   "source": [
    "df.species.unique()"
   ]
  },
  {
   "cell_type": "code",
   "execution_count": 13,
   "metadata": {},
   "outputs": [
    {
     "data": {
      "text/plain": [
       "bradypus_variegatus     1276\n",
       "microryzomys_minutus     968\n",
       "Name: species, dtype: int64"
      ]
     },
     "execution_count": 13,
     "metadata": {},
     "output_type": "execute_result"
    }
   ],
   "source": [
    "df.species.value_counts()"
   ]
  },
  {
   "cell_type": "markdown",
   "metadata": {},
   "source": [
    "The dataframe contains location data for the two species. Before we use this data in the map, we need to make sure that the locatation data makes sense and it does not contain any strange data."
   ]
  },
  {
   "cell_type": "code",
   "execution_count": 14,
   "metadata": {},
   "outputs": [
    {
     "data": {
      "text/html": [
       "<div>\n",
       "<style scoped>\n",
       "    .dataframe tbody tr th:only-of-type {\n",
       "        vertical-align: middle;\n",
       "    }\n",
       "\n",
       "    .dataframe tbody tr th {\n",
       "        vertical-align: top;\n",
       "    }\n",
       "\n",
       "    .dataframe thead th {\n",
       "        text-align: right;\n",
       "    }\n",
       "</style>\n",
       "<table border=\"1\" class=\"dataframe\">\n",
       "  <thead>\n",
       "    <tr style=\"text-align: right;\">\n",
       "      <th></th>\n",
       "      <th>dd lat</th>\n",
       "      <th>dd long</th>\n",
       "    </tr>\n",
       "  </thead>\n",
       "  <tbody>\n",
       "    <tr>\n",
       "      <th>count</th>\n",
       "      <td>2244.000000</td>\n",
       "      <td>2244.000000</td>\n",
       "    </tr>\n",
       "    <tr>\n",
       "      <th>mean</th>\n",
       "      <td>1.097714</td>\n",
       "      <td>-73.237053</td>\n",
       "    </tr>\n",
       "    <tr>\n",
       "      <th>std</th>\n",
       "      <td>7.953531</td>\n",
       "      <td>8.203810</td>\n",
       "    </tr>\n",
       "    <tr>\n",
       "      <th>min</th>\n",
       "      <td>-23.450001</td>\n",
       "      <td>-85.933296</td>\n",
       "    </tr>\n",
       "    <tr>\n",
       "      <th>25%</th>\n",
       "      <td>-3.437475</td>\n",
       "      <td>-78.420851</td>\n",
       "    </tr>\n",
       "    <tr>\n",
       "      <th>50%</th>\n",
       "      <td>1.799984</td>\n",
       "      <td>-75.633297</td>\n",
       "    </tr>\n",
       "    <tr>\n",
       "      <th>75%</th>\n",
       "      <td>8.525000</td>\n",
       "      <td>-71.066648</td>\n",
       "    </tr>\n",
       "    <tr>\n",
       "      <th>max</th>\n",
       "      <td>13.950000</td>\n",
       "      <td>-40.066700</td>\n",
       "    </tr>\n",
       "  </tbody>\n",
       "</table>\n",
       "</div>"
      ],
      "text/plain": [
       "            dd lat      dd long\n",
       "count  2244.000000  2244.000000\n",
       "mean      1.097714   -73.237053\n",
       "std       7.953531     8.203810\n",
       "min     -23.450001   -85.933296\n",
       "25%      -3.437475   -78.420851\n",
       "50%       1.799984   -75.633297\n",
       "75%       8.525000   -71.066648\n",
       "max      13.950000   -40.066700"
      ]
     },
     "execution_count": 14,
     "metadata": {},
     "output_type": "execute_result"
    }
   ],
   "source": [
    "df.describe()"
   ]
  },
  {
   "cell_type": "markdown",
   "metadata": {},
   "source": [
    "The minimum and maximum values for longitude and latitude data are in the acceptable limits. Now we can see the area that covers all the location points."
   ]
  },
  {
   "cell_type": "markdown",
   "metadata": {},
   "source": [
    "## Coverage Map"
   ]
  },
  {
   "cell_type": "code",
   "execution_count": 15,
   "metadata": {},
   "outputs": [],
   "source": [
    "max_vals = list(df.max(numeric_only=True).values)\n",
    "min_vals = list(df.min(numeric_only=True).values)\n",
    "center_vals = [mn + ((mx-mn)/2) for mx,mn in zip(max_vals, min_vals)]"
   ]
  },
  {
   "cell_type": "code",
   "execution_count": 16,
   "metadata": {},
   "outputs": [
    {
     "data": {
      "text/html": [
       "<div style=\"width:100%;\"><div style=\"position:relative;width:100%;height:0;padding-bottom:60%;\"><iframe src=\"data:text/html;charset=utf-8;base64,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\" style=\"position:absolute;width:100%;height:100%;left:0;top:0;border:none !important;\" allowfullscreen webkitallowfullscreen mozallowfullscreen></iframe></div></div>"
      ],
      "text/plain": [
       "<folium.folium.Map at 0x19d615214a8>"
      ]
     },
     "execution_count": 16,
     "metadata": {},
     "output_type": "execute_result"
    }
   ],
   "source": [
    "m = folium.Map(location= center_vals, zoom_start=3)\n",
    "folium.Rectangle(bounds=[min_vals,max_vals],color='#9da0a4', fill=True, fill_color='#3f96ee').add_to(m)\n",
    "m"
   ]
  },
  {
   "cell_type": "markdown",
   "metadata": {},
   "source": [
    "All the location data is in the upper parts of south America. So it matches with the documenation on the paper. Now we are ready to visualize the distribution heatmaps."
   ]
  },
  {
   "cell_type": "markdown",
   "metadata": {},
   "source": [
    "## Brown-throated Sloth distribution heatmap"
   ]
  },
  {
   "cell_type": "code",
   "execution_count": 17,
   "metadata": {},
   "outputs": [
    {
     "data": {
      "text/html": [
       "<div style=\"width:100%;\"><div style=\"position:relative;width:100%;height:0;padding-bottom:60%;\"><iframe src=\"data:text/html;charset=utf-8;base64,PCFET0NUWVBFIGh0bWw+CjxoZWFkPiAgICAKICAgIDxtZXRhIGh0dHAtZXF1aXY9ImNvbnRlbnQtdHlwZSIgY29udGVudD0idGV4dC9odG1sOyBjaGFyc2V0PVVURi04IiAvPgogICAgPHNjcmlwdD5MX1BSRUZFUl9DQU5WQVM9ZmFsc2U7IExfTk9fVE9VQ0g9ZmFsc2U7IExfRElTQUJMRV8zRD1mYWxzZTs8L3NjcmlwdD4KICAgIDxzY3JpcHQgc3JjPSJodHRwczovL2Nkbi5qc2RlbGl2ci5uZXQvbnBtL2xlYWZsZXRAMS4zLjQvZGlzdC9sZWFmbGV0LmpzIj48L3NjcmlwdD4KICAgIDxzY3JpcHQgc3JjPSJodHRwczovL2FqYXguZ29vZ2xlYXBpcy5jb20vYWpheC9saWJzL2pxdWVyeS8xLjExLjEvanF1ZXJ5Lm1pbi5qcyI+PC9zY3JpcHQ+CiAgICA8c2NyaXB0IHNyYz0iaHR0cHM6Ly9tYXhjZG4uYm9vdHN0cmFwY2RuLmNvbS9ib290c3RyYXAvMy4yLjAvanMvYm9vdHN0cmFwLm1pbi5qcyI+PC9zY3JpcHQ+CiAgICA8c2NyaXB0IHNyYz0iaHR0cHM6Ly9jZG5qcy5jbG91ZGZsYXJlLmNvbS9hamF4L2xpYnMvTGVhZmxldC5hd2Vzb21lLW1hcmtlcnMvMi4wLjIvbGVhZmxldC5hd2Vzb21lLW1hcmtlcnMuanMiPjwvc2NyaXB0PgogICAgPGxpbmsgcmVsPSJzdHlsZXNoZWV0IiBocmVmPSJodHRwczovL2Nkbi5qc2RlbGl2ci5uZXQvbnBtL2xlYWZsZXRAMS4zLjQvZGlzdC9sZWFmbGV0LmNzcyIvPgogICAgPGxpbmsgcmVsPSJzdHlsZXNoZWV0IiBocmVmPSJodHRwczovL21heGNkbi5ib290c3RyYXBjZG4uY29tL2Jvb3RzdHJhcC8zLjIuMC9jc3MvYm9vdHN0cmFwLm1pbi5jc3MiLz4KICAgIDxsaW5rIHJlbD0ic3R5bGVzaGVldCIgaHJlZj0iaHR0cHM6Ly9tYXhjZG4uYm9vdHN0cmFwY2RuLmNvbS9ib290c3RyYXAvMy4yLjAvY3NzL2Jvb3RzdHJhcC10aGVtZS5taW4uY3NzIi8+CiAgICA8bGluayByZWw9InN0eWxlc2hlZXQiIGhyZWY9Imh0dHBzOi8vbWF4Y2RuLmJvb3RzdHJhcGNkbi5jb20vZm9udC1hd2Vzb21lLzQuNi4zL2Nzcy9mb250LWF3ZXNvbWUubWluLmNzcyIvPgogICAgPGxpbmsgcmVsPSJzdHlsZXNoZWV0IiBocmVmPSJodHRwczovL2NkbmpzLmNsb3VkZmxhcmUuY29tL2FqYXgvbGlicy9MZWFmbGV0LmF3ZXNvbWUtbWFya2Vycy8yLjAuMi9sZWFmbGV0LmF3ZXNvbWUtbWFya2Vycy5jc3MiLz4KICAgIDxsaW5rIHJlbD0ic3R5bGVzaGVldCIgaHJlZj0iaHR0cHM6Ly9yYXdjZG4uZ2l0aGFjay5jb20vcHl0aG9uLXZpc3VhbGl6YXRpb24vZm9saXVtL21hc3Rlci9mb2xpdW0vdGVtcGxhdGVzL2xlYWZsZXQuYXdlc29tZS5yb3RhdGUuY3NzIi8+CiAgICA8c3R5bGU+aHRtbCwgYm9keSB7d2lkdGg6IDEwMCU7aGVpZ2h0OiAxMDAlO21hcmdpbjogMDtwYWRkaW5nOiAwO308L3N0eWxlPgogICAgPHN0eWxlPiNtYXAge3Bvc2l0aW9uOmFic29sdXRlO3RvcDowO2JvdHRvbTowO3JpZ2h0OjA7bGVmdDowO308L3N0eWxlPgogICAgCiAgICA8bWV0YSBuYW1lPSJ2aWV3cG9ydCIgY29udGVudD0id2lkdGg9ZGV2aWNlLXdpZHRoLAogICAgICAgIGluaXRpYWwtc2NhbGU9MS4wLCBtYXhpbXVtLXNjYWxlPTEuMCwgdXNlci1zY2FsYWJsZT1ubyIgLz4KICAgIDxzdHlsZT4jbWFwXzBkODkwN2MyZGNmNjRkZjdiY2M2NWFjMWRkODA3MjZmIHsKICAgICAgICBwb3NpdGlvbjogcmVsYXRpdmU7CiAgICAgICAgd2lkdGg6IDEwMC4wJTsKICAgICAgICBoZWlnaHQ6IDEwMC4wJTsKICAgICAgICBsZWZ0OiAwLjAlOwogICAgICAgIHRvcDogMC4wJTsKICAgICAgICB9CiAgICA8L3N0eWxlPgogICAgPHNjcmlwdCBzcmM9Imh0dHBzOi8vbGVhZmxldC5naXRodWIuaW8vTGVhZmxldC5oZWF0L2Rpc3QvbGVhZmxldC1oZWF0LmpzIj48L3NjcmlwdD4KPC9oZWFkPgo8Ym9keT4gICAgCiAgICAKICAgIDxkaXYgY2xhc3M9ImZvbGl1bS1tYXAiIGlkPSJtYXBfMGQ4OTA3YzJkY2Y2NGRmN2JjYzY1YWMxZGQ4MDcyNmYiID48L2Rpdj4KPC9ib2R5Pgo8c2NyaXB0PiAgICAKICAgIAogICAgCiAgICAgICAgdmFyIGJvdW5kcyA9IG51bGw7CiAgICAKCiAgICB2YXIgbWFwXzBkODkwN2MyZGNmNjRkZjdiY2M2NWFjMWRkODA3MjZmID0gTC5tYXAoCiAgICAgICAgJ21hcF8wZDg5MDdjMmRjZjY0ZGY3YmNjNjVhYzFkZDgwNzI2ZicsIHsKICAgICAgICBjZW50ZXI6IFstNC43NSwgLTYyLjk5OTk5ODA5MjY1MTM3XSwKICAgICAgICB6b29tOiA0LAogICAgICAgIG1heEJvdW5kczogYm91bmRzLAogICAgICAgIGxheWVyczogW10sCiAgICAgICAgd29ybGRDb3B5SnVtcDogZmFsc2UsCiAgICAgICAgY3JzOiBMLkNSUy5FUFNHMzg1NywKICAgICAgICB6b29tQ29udHJvbDogdHJ1ZSwKICAgICAgICB9KTsKCiAgICAKICAgIAogICAgdmFyIHRpbGVfbGF5ZXJfYzJmYTg5Y2YzN2U4NGQ2NzhjM2JmN2UwOTQxOTk3N2EgPSBMLnRpbGVMYXllcigKICAgICAgICAnaHR0cHM6Ly9zdGFtZW4tdGlsZXMte3N9LmEuc3NsLmZhc3RseS5uZXQvdGVycmFpbi97en0ve3h9L3t5fS5qcGcnLAogICAgICAgIHsKICAgICAgICAiYXR0cmlidXRpb24iOiBudWxsLAogICAgICAgICJkZXRlY3RSZXRpbmEiOiBmYWxzZSwKICAgICAgICAibWF4TmF0aXZlWm9vbSI6IDE4LAogICAgICAgICJtYXhab29tIjogMTgsCiAgICAgICAgIm1pblpvb20iOiAwLAogICAgICAgICJub1dyYXAiOiBmYWxzZSwKICAgICAgICAib3BhY2l0eSI6IDEsCiAgICAgICAgInN1YmRvbWFpbnMiOiAiYWJjIiwKICAgICAgICAidG1zIjogZmFsc2UKfSkuYWRkVG8obWFwXzBkODkwN2MyZGNmNjRkZjdiY2M2NWFjMWRkODA3MjZmKTsKICAgIAogICAgICAgICAgICB2YXIgaGVhdF9tYXBfNmFkNjAyZDhlMjIyNGFlODgwM2FkZDEwMjY4N2RjOTYgPSBMLmhlYXRMYXllcigKICAgICAgICAgICAgICAgIFtbLTEwLjM4MzI5OTgyNzU3NTY4NCwgLTY1LjQwMDAwMTUyNTg3ODldLCBbLTEwLjM4MzI5OTgyNzU3NTY4NCwgLTY1LjM4MzMwMDc4MTI1XSwgWy0xNi43OTk5OTkyMzcwNjA1NDcsIC02NS4xMzMzMDA3ODEyNV0sIFstMTcuNDUwMDAwNzYyOTM5NDUzLCAtNjMuNjY2Njk4NDU1ODEwNTVdLCBbLTE3LjM5OTk5OTYxODUzMDI3MywgLTYzLjg0OTk5ODQ3NDEyMTA5NF0sIFstMTYuMCwgLTY0LjQxNjcwMjI3MDUwNzgxXSwgWy0xNy43OTk5OTkyMzcwNjA1NDcsIC02My4xNjY2OTg0NTU4MTA1NV0sIFstMi41OTk5OTk5MDQ2MzI1Njg0LCAtNTYuNzMzMjk5MjU1MzcxMDk0XSwgWy0zLjcwMDAwMDA0NzY4MzcxNiwgLTU5LjEzMzMwMDc4MTI1XSwgWy0zLjEzMzMwMDA2NTk5NDI2MjcsIC02MC4wODMzMDE1NDQxODk0NV0sIFstMC41MTY3MDAwMjkzNzMxNjksIC02NC44MzMyOTc3Mjk0OTIxOV0sIFstMy4xMzMzMDAwNjU5OTQyNjI3LCAtNjAuMDE2NzAwNzQ0NjI4OTA2XSwgWy0zLjgzMzMwMDExMzY3Nzk3ODUsIC02Mi4wODMzMDE1NDQxODk0NV0sIFstMTkuMzMzMjk5NjM2ODQwODIsIC00MC4wNjY2OTk5ODE2ODk0NV0sIFstMy44MzMzMDAxMTM2Nzc5Nzg1LCAtNTIuNjY2Njk4NDU1ODEwNTVdLCBbLTEuMCwgLTQ5LjVdLCBbLTEuOTE2NzAwMDA1NTMxMzExLCAtNTUuNTQ5OTk5MjM3MDYwNTVdLCBbLTEuNzAwMDAwMDQ3NjgzNzE1OCwgLTUyLjIwMDAwMDc2MjkzOTQ1XSwgWy0yLjc1LCAtNTQuOTgzMjk5MjU1MzcxMDk0XSwgWy0zLjY2NjY5OTg4NjMyMjAyMTUsIC01NS41XSwgWy0yLjgzMzMwMDExMzY3Nzk3ODUsIC01NS4xMzMzMDA3ODEyNV0sIFstMi40MzMzMDAwMTgzMTA1NDcsIC01NS4wXSwgWy0yLjQzMzMwMDAxODMxMDU0NywgLTU0LjcwMDAwMDc2MjkzOTQ1XSwgWy0zLjA4MzMwMDExMzY3Nzk3ODUsIC01NS4wOTk5OTg0NzQxMjEwOTRdLCBbLTMuNDUwMDAwMDQ3NjgzNzE2LCAtNTUuMjgzMjk4NDkyNDMxNjRdLCBbLTIuNjgzMzAwMDE4MzEwNTQ3LCAtNDkuNjgzMzAwMDE4MzEwNTVdLCBbLTIuMjUsIC00OS41XSwgWy0yLjU4MzMwMDExMzY3Nzk3ODUsIC00OS41XSwgWy0yMy40NTAwMDA3NjI5Mzk0NTMsIC00Ni43MzMyOTkyNTUzNzEwOTRdLCBbLTQuMTUwMDAwMDk1MzY3NDMyLCAtNjkuOTQ5OTk2OTQ4MjQyMTldLCBbNy4wMTY2OTk3OTA5NTQ1OSwgLTc2LjI2NjcwMDc0NDYyODldLCBbNi4yNSwgLTc1LjU4MzI5NzcyOTQ5MjE5XSwgWzguMTAwMDAwMzgxNDY5NzI3LCAtNzYuNzE2Njk3NjkyODcxMV0sIFs3LjM0OTk5OTkwNDYzMjU2OCwgLTc1LjA1MDAwMzA1MTc1NzgxXSwgWzkuOTY2Njk5NjAwMjE5NzI3LCAtNzUuMDY2NzAzNzk2Mzg2NzJdLCBbMTAuMzAwMDAwMTkwNzM0ODYzLCAtNzQuMF0sIFsxMC4xNDk5OTk2MTg1MzAyNzMsIC03My40MzMyOTYyMDM2MTMyOF0sIFs1LjA5OTk5OTkwNDYzMjU2OCwgLTc2LjY4MzI5NjIwMzYxMzI4XSwgWzcuMTE2NzAwMTcyNDI0MzE2LCAtNzcuNzY2NzAwNzQ0NjI4OV0sIFs1LjY5OTk5OTgwOTI2NTEzNywgLTc2LjY2NjcwMjI3MDUwNzgxXSwgWzUuMDUwMDAwMTkwNzM0ODYzLCAtNzYuOTQ5OTk2OTQ4MjQyMTldLCBbNy42NjY2OTk4ODYzMjIwMjE1LCAtNzcuMTY2NzAyMjcwNTA3ODFdLCBbOC4wMTY2OTk3OTA5NTQ1OSwgLTc3LjExNjY5OTIxODc1XSwgWzguMjgzMzAwMzk5NzgwMjczLCAtNzUuNjgzMjk2MjAzNjEzMjhdLCBbOS4xMTY3MDAxNzI0MjQzMTYsIC03NC43MzMyOTkyNTUzNzExXSwgWzcuODQ5OTk5OTA0NjMyNTY4LCAtNzYuMjgzMzAyMzA3MTI4OV0sIFs0LjU4MzMwMDExMzY3Nzk3ODUsIC03NC4zMDAwMDMwNTE3NTc4MV0sIFszLjg2NjY5OTkzNDAwNTczNzMsIC02Ny45MzMyOTYyMDM2MTMyOF0sIFsxMi4zNTAwMDAzODE0Njk3MjcsIC03MS4zMTY3MDM3OTYzODY3Ml0sIFs0LjE1MDAwMDA5NTM2NzQzMiwgLTczLjYxNjY5OTIxODc1XSwgWzEuNjgzMzAwMDE4MzEwNTQ2OSwgLTc4LjE1MDAwMTUyNTg3ODldLCBbOC41LCAtNzIuNTgzMjk3NzI5NDkyMTldLCBbNy45MDAwMDAwOTUzNjc0MzIsIC03Mi41MTY3MDA3NDQ2Mjg5XSwgWy0wLjIwMDAwMDAwMjk4MDIzMjI0LCAtNzQuNzY2NzAwNzQ0NjI4OV0sIFswLjQ2NjY5OTk4NzY0OTkxNzYsIC03NS4zMzMyOTc3Mjk0OTIxOV0sIFs3LjE2NjY5OTg4NjMyMjAyMTUsIC03My45MTY3MDIyNzA1MDc4MV0sIFs5LjMwMDAwMDE5MDczNDg2MywgLTc1LjQwMDAwMTUyNTg3ODldLCBbOS41LCAtNzUuMzQ5OTk4NDc0MTIxMV0sIFs0LjAsIC03Ni45MzMyOTYyMDM2MTMyOF0sIFszLjY4MzMwMDAxODMxMDU0NywgLTc3LjA4MzI5NzcyOTQ5MjE5XSwgWzEwLjMzMzI5OTYzNjg0MDgyLCAtODQuNV0sIFs5Ljg4MzI5OTgyNzU3NTY4NCwgLTgzLjYzMzMwMDc4MTI1XSwgWzEwLjYzMzI5OTgyNzU3NTY4NCwgLTg0LjAxNjcwMDc0NDYyODldLCBbOS45MTY3MDAzNjMxNTkxOCwgLTgzLjU2NjcwMzc5NjM4NjcyXSwgWzguOTQ5OTk5ODA5MjY1MTM3LCAtODMuNDY2Njk3NjkyODcxMV0sIFstMy43MTY3MDAwNzcwNTY4ODQ4LCAtNzkuNjUwMDAxNTI1ODc4OV0sIFswLjMzMzI5OTk5NDQ2ODY4ODk2LCAtNzkuNDY2Njk3NjkyODcxMV0sIFstMS41MzMzMDAwNDIxNTI0MDQ4LCAtNzkuNzVdLCBbLTAuNDY2Njk5OTg3NjQ5OTE3NiwgLTc5LjU5OTk5ODQ3NDEyMTFdLCBbLTAuNjk5OTk5OTg4MDc5MDcxLCAtNzcuMTMzMzAwNzgxMjVdLCBbLTEuNDgzMjk5OTcwNjI2ODMxLCAtNzcuOTQ5OTk2OTQ4MjQyMTldLCBbLTAuMjUsIC03OS4xNTAwMDE1MjU4Nzg5XSwgWzEzLjE4MzMwMDAxODMxMDU0NywgLTg1LjkzMzI5NjIwMzYxMzI4XSwgWzEwLjkzMzMwMDAxODMxMDU0NywgLTgzLjY5OTk5Njk0ODI0MjE5XSwgWzEzLjk0OTk5OTgwOTI2NTEzNywgLTg0LjUzMzMwMjMwNzEyODldLCBbMTIuMTQ5OTk5NjE4NTMwMjczLCAtODQuNDMzMjk2MjAzNjEzMjhdLCBbMTIuMTQ5OTk5NjE4NTMwMjczLCAtODMuNzY2NzAwNzQ0NjI4OV0sIFs5LjMwMDAwMDE5MDczNDg2MywgLTgyLjQwMDAwMTUyNTg3ODldLCBbOS40NDk5OTk4MDkyNjUxMzcsIC04Mi41MTY3MDA3NDQ2Mjg5XSwgWzguOTMzMzAwMDE4MzEwNTQ3LCAtODEuODAwMDAzMDUxNzU3ODFdLCBbOS42MDAwMDAzODE0Njk3MjcsIC04Mi43ODMzMDIzMDcxMjg5XSwgWzkuMTgzMzAwMDE4MzEwNTQ3LCAtODIuMjVdLCBbOS4xNjY3MDAzNjMxNTkxOCwgLTc5LjgxNjcwMzc5NjM4NjcyXSwgWzkuMjUsIC03OS45MzMyOTYyMDM2MTMyOF0sIFs5LjI1LCAtNzkuOTgzMjk5MjU1MzcxMV0sIFs5LjIxNjY5OTYwMDIxOTcyNywgLTc5LjkwMDAwMTUyNTg3ODldLCBbOS4yODMzMDAzOTk3ODAyNzMsIC03OS41OTk5OTg0NzQxMjExXSwgWzguMTY2NzAwMzYzMTU5MTgsIC03Ny4zMDAwMDMwNTE3NTc4MV0sIFs4LjAsIC03Ny41OTk5OTg0NzQxMjExXSwgWzguMTAwMDAwMzgxNDY5NzI3LCAtNzcuNzVdLCBbOC4xMzMyOTk4Mjc1NzU2ODQsIC03Ny43MzMyOTkyNTUzNzExXSwgWzcuOTY2NzAwMDc3MDU2ODg1LCAtNzguMzY2Njk5MjE4NzVdLCBbNy45ODMzMDAyMDkwNDU0MSwgLTc3LjQzMzI5NjIwMzYxMzI4XSwgWzguOTQ5OTk5ODA5MjY1MTM3LCAtNzkuNTgzMjk3NzI5NDkyMTldLCBbOS4xNDk5OTk2MTg1MzAyNzMsIC03OS44NDk5OTg0NzQxMjExXSwgWzkuMjMzMzAwMjA5MDQ1NDEsIC03OS4zNDk5OTg0NzQxMjExXSwgWzguODY2NzAwMTcyNDI0MzE2LCAtNzkuODAwMDAzMDUxNzU3ODFdLCBbOC44OTk5OTk2MTg1MzAyNzMsIC03OS41OTk5OTg0NzQxMjExXSwgWy00LjY1MDAwMDA5NTM2NzQzMiwgLTc3LjExNjY5OTIxODc1XSwgWy0yLjM2NjY5OTkzNDAwNTczNzMsIC03NC4wODMyOTc3Mjk0OTIxOV0sIFstMy43NjY3MDAwMjkzNzMxNjksIC03My4yNV0sIFstNC44MzMzMDAxMTM2Nzc5Nzg1LCAtNzQuMjE2Njk3NjkyODcxMV0sIFstMy4zMTY2OTk5ODE2ODk0NTMsIC03Mi4wOTk5OTg0NzQxMjExXSwgWy0zLjQzMzMwMDAxODMxMDU0NywgLTcyLjEzMzMwMDc4MTI1XSwgWy0zLjQ2NjcwMDA3NzA1Njg4NDgsIC03My4wNTAwMDMwNTE3NTc4MV0sIFstNC42OTk5OTk4MDkyNjUxMzcsIC03NC4yMTY2OTc2OTI4NzExXSwgWy02LjczMzMwMDIwOTA0NTQxLCAtNzUuMDk5OTk4NDc0MTIxMV0sIFstNS44MzMzMDAxMTM2Nzc5Nzg1LCAtNzYuMDUwMDAzMDUxNzU3ODFdLCBbLTguMzgzMjk5ODI3NTc1Njg0LCAtNzQuNTMzMzAyMzA3MTI4OV0sIFszLjE2NjY5OTg4NjMyMjAyMTUsIC02NS41NTAwMDMwNTE3NTc4MV0sIFszLjA4MzMwMDExMzY3Nzk3ODUsIC02NS45MTY3MDIyNzA1MDc4MV0sIFs1LjMwMDAwMDE5MDczNDg2MywgLTY2LjIxNjY5NzY5Mjg3MTFdLCBbMTAuMzY2NzAwMTcyNDI0MzE2LCAtNjcuNjgzMjk2MjAzNjEzMjhdLCBbMTAuNTMzMzAwMzk5NzgwMjczLCAtNjguMzgzMzAwNzgxMjVdLCBbMTAuMzY2NzAwMTcyNDI0MzE2LCAtNjYuODMzMjk3NzI5NDkyMTldLCBbOS4xNDk5OTk2MTg1MzAyNzMsIC03Mi41OTk5OTg0NzQxMjExXSwgWy0xMC4zODMyOTk4Mjc1NzU2ODQsIC02NS40MDAwMDE1MjU4Nzg5XSwgWy0xNi43OTk5OTkyMzcwNjA1NDcsIC02NS4xMzMzMDA3ODEyNV0sIFstMTcuMzk5OTk5NjE4NTMwMjczLCAtNjMuODQ5OTk4NDc0MTIxMDk0XSwgWy0xNy43OTk5OTkyMzcwNjA1NDcsIC02My4xNjY2OTg0NTU4MTA1NV0sIFstMi41OTk5OTk5MDQ2MzI1Njg0LCAtNTYuNzMzMjk5MjU1MzcxMDk0XSwgWy0zLjcwMDAwMDA0NzY4MzcxNiwgLTU5LjEzMzMwMDc4MTI1XSwgWy0zLjEzMzMwMDA2NTk5NDI2MjcsIC02MC4wODMzMDE1NDQxODk0NV0sIFstMC41MTY3MDAwMjkzNzMxNjksIC02NC44MzMyOTc3Mjk0OTIxOV0sIFstMy4xMzMzMDAwNjU5OTQyNjI3LCAtNjAuMDE2NzAwNzQ0NjI4OTA2XSwgWy0zLjgzMzMwMDExMzY3Nzk3ODUsIC02Mi4wODMzMDE1NDQxODk0NV0sIFstMTkuMzMzMjk5NjM2ODQwODIsIC00MC4wNjY2OTk5ODE2ODk0NV0sIFstMS4wLCAtNDkuNV0sIFstMS43MDAwMDAwNDc2ODM3MTU4LCAtNTIuMjAwMDAwNzYyOTM5NDVdLCBbLTIuNzUsIC01NC45ODMyOTkyNTUzNzEwOTRdLCBbLTMuNjY2Njk5ODg2MzIyMDIxNSwgLTU1LjVdLCBbLTIuODMzMzAwMTEzNjc3OTc4NSwgLTU1LjEzMzMwMDc4MTI1XSwgWy0yLjQzMzMwMDAxODMxMDU0NywgLTU1LjBdLCBbLTIuNDMzMzAwMDE4MzEwNTQ3LCAtNTQuNzAwMDAwNzYyOTM5NDVdLCBbLTMuMDgzMzAwMTEzNjc3OTc4NSwgLTU1LjA5OTk5ODQ3NDEyMTA5NF0sIFstMi42ODMzMDAwMTgzMTA1NDcsIC00OS42ODMzMDAwMTgzMTA1NV0sIFstMi41ODMzMDAxMTM2Nzc5Nzg1LCAtNDkuNV0sIFstNC4xNTAwMDAwOTUzNjc0MzIsIC02OS45NDk5OTY5NDgyNDIxOV0sIFs2LjI1LCAtNzUuNTgzMjk3NzI5NDkyMTldLCBbOS45NjY2OTk2MDAyMTk3MjcsIC03NS4wNjY3MDM3OTYzODY3Ml0sIFsxMC4xNDk5OTk2MTg1MzAyNzMsIC03My40MzMyOTYyMDM2MTMyOF0sIFs1LjA5OTk5OTkwNDYzMjU2OCwgLTc2LjY4MzI5NjIwMzYxMzI4XSwgWzUuMDUwMDAwMTkwNzM0ODYzLCAtNzYuOTQ5OTk2OTQ4MjQyMTldLCBbNy42NjY2OTk4ODYzMjIwMjE1LCAtNzcuMTY2NzAyMjcwNTA3ODFdLCBbOC4wMTY2OTk3OTA5NTQ1OSwgLTc3LjExNjY5OTIxODc1XSwgWzcuODQ5OTk5OTA0NjMyNTY4LCAtNzYuMjgzMzAyMzA3MTI4OV0sIFszLjg2NjY5OTkzNDAwNTczNzMsIC02Ny45MzMyOTYyMDM2MTMyOF0sIFsxMi4zNTAwMDAzODE0Njk3MjcsIC03MS4zMTY3MDM3OTYzODY3Ml0sIFsxLjY4MzMwMDAxODMxMDU0NjksIC03OC4xNTAwMDE1MjU4Nzg5XSwgWzguNSwgLTcyLjU4MzI5NzcyOTQ5MjE5XSwgWy0wLjIwMDAwMDAwMjk4MDIzMjI0LCAtNzQuNzY2NzAwNzQ0NjI4OV0sIFswLjQ2NjY5OTk4NzY0OTkxNzYsIC03NS4zMzMyOTc3Mjk0OTIxOV0sIFs5LjMwMDAwMDE5MDczNDg2MywgLTc1LjQwMDAwMTUyNTg3ODldLCBbOS41LCAtNzUuMzQ5OTk4NDc0MTIxMV0sIFszLjY4MzMwMDAxODMxMDU0NywgLTc3LjA4MzI5NzcyOTQ5MjE5XSwgWzEwLjMzMzI5OTYzNjg0MDgyLCAtODQuNV0sIFs5Ljg4MzI5OTgyNzU3NTY4NCwgLTgzLjYzMzMwMDc4MTI1XSwgWzEwLjYzMzI5OTgyNzU3NTY4NCwgLTg0LjAxNjcwMDc0NDYyODldLCBbOS45MTY3MDAzNjMxNTkxOCwgLTgzLjU2NjcwMzc5NjM4NjcyXSwgWy0zLjcxNjcwMDA3NzA1Njg4NDgsIC03OS42NTAwMDE1MjU4Nzg5XSwgWy0wLjQ2NjY5OTk4NzY0OTkxNzYsIC03OS41OTk5OTg0NzQxMjExXSwgWy0wLjY5OTk5OTk4ODA3OTA3MSwgLTc3LjEzMzMwMDc4MTI1XSwgWy0xLjQ4MzI5OTk3MDYyNjgzMSwgLTc3Ljk0OTk5Njk0ODI0MjE5XSwgWy0wLjI1LCAtNzkuMTUwMDAxNTI1ODc4OV0sIFsxMC45MzMzMDAwMTgzMTA1NDcsIC04My42OTk5OTY5NDgyNDIxOV0sIFsxMy45NDk5OTk4MDkyNjUxMzcsIC04NC41MzMzMDIzMDcxMjg5XSwgWzEyLjE0OTk5OTYxODUzMDI3MywgLTg0LjQzMzI5NjIwMzYxMzI4XSwgWzEyLjE0OTk5OTYxODUzMDI3MywgLTgzLjc2NjcwMDc0NDYyODldLCBbOS4zMDAwMDAxOTA3MzQ4NjMsIC04Mi40MDAwMDE1MjU4Nzg5XSwgWzkuNDQ5OTk5ODA5MjY1MTM3LCAtODIuNTE2NzAwNzQ0NjI4OV0sIFs5LjYwMDAwMDM4MTQ2OTcyNywgLTgyLjc4MzMwMjMwNzEyODldLCBbOS4yNSwgLTc5Ljk4MzI5OTI1NTM3MTFdLCBbOS4yMTY2OTk2MDAyMTk3MjcsIC03OS45MDAwMDE1MjU4Nzg5XSwgWzkuMjgzMzAwMzk5NzgwMjczLCAtNzkuNTk5OTk4NDc0MTIxMV0sIFs4LjAsIC03Ny41OTk5OTg0NzQxMjExXSwgWzguMTAwMDAwMzgxNDY5NzI3LCAtNzcuNzVdLCBbOC4xMzMyOTk4Mjc1NzU2ODQsIC03Ny43MzMyOTkyNTUzNzExXSwgWzcuOTY2NzAwMDc3MDU2ODg1LCAtNzguMzY2Njk5MjE4NzVdLCBbNy45ODMzMDAyMDkwNDU0MSwgLTc3LjQzMzI5NjIwMzYxMzI4XSwgWzkuMTQ5OTk5NjE4NTMwMjczLCAtNzkuODQ5OTk4NDc0MTIxMV0sIFs4Ljg2NjcwMDE3MjQyNDMxNiwgLTc5LjgwMDAwMzA1MTc1NzgxXSwgWy00LjY1MDAwMDA5NTM2NzQzMiwgLTc3LjExNjY5OTIxODc1XSwgWy0yLjM2NjY5OTkzNDAwNTczNzMsIC03NC4wODMyOTc3Mjk0OTIxOV0sIFstMy43NjY3MDAwMjkzNzMxNjksIC03My4yNV0sIFstNC44MzMzMDAxMTM2Nzc5Nzg1LCAtNzQuMjE2Njk3NjkyODcxMV0sIFstMy40MzMzMDAwMTgzMTA1NDcsIC03Mi4xMzMzMDA3ODEyNV0sIFstMy40NjY3MDAwNzcwNTY4ODQ4LCAtNzMuMDUwMDAzMDUxNzU3ODFdLCBbLTQuNjk5OTk5ODA5MjY1MTM3LCAtNzQuMjE2Njk3NjkyODcxMV0sIFstNi43MzMzMDAyMDkwNDU0MSwgLTc1LjA5OTk5ODQ3NDEyMTFdLCBbLTguMzgzMjk5ODI3NTc1Njg0LCAtNzQuNTMzMzAyMzA3MTI4OV0sIFszLjE2NjY5OTg4NjMyMjAyMTUsIC02NS41NTAwMDMwNTE3NTc4MV0sIFszLjA4MzMwMDExMzY3Nzk3ODUsIC02NS45MTY3MDIyNzA1MDc4MV0sIFs1LjMwMDAwMDE5MDczNDg2MywgLTY2LjIxNjY5NzY5Mjg3MTFdLCBbMTAuMzY2NzAwMTcyNDI0MzE2LCAtNjcuNjgzMjk2MjAzNjEzMjhdLCBbMTAuNTMzMzAwMzk5NzgwMjczLCAtNjguMzgzMzAwNzgxMjVdLCBbMTAuMzY2NzAwMTcyNDI0MzE2LCAtNjYuODMzMjk3NzI5NDkyMTldLCBbOS4xNDk5OTk2MTg1MzAyNzMsIC03Mi41OTk5OTg0NzQxMjExXSwgWy0xMC4zODMyOTk4Mjc1NzU2ODQsIC02NS4zODMzMDA3ODEyNV0sIFstMTcuNDUwMDAwNzYyOTM5NDUzLCAtNjMuNjY2Njk4NDU1ODEwNTVdLCBbLTE3LjM5OTk5OTYxODUzMDI3MywgLTYzLjg0OTk5ODQ3NDEyMTA5NF0sIFstMTYuMCwgLTY0LjQxNjcwMjI3MDUwNzgxXSwgWy0xNy43OTk5OTkyMzcwNjA1NDcsIC02My4xNjY2OTg0NTU4MTA1NV0sIFstMi41OTk5OTk5MDQ2MzI1Njg0LCAtNTYuNzMzMjk5MjU1MzcxMDk0XSwgWy0zLjcwMDAwMDA0NzY4MzcxNiwgLTU5LjEzMzMwMDc4MTI1XSwgWy0zLjEzMzMwMDA2NTk5NDI2MjcsIC02MC4wODMzMDE1NDQxODk0NV0sIFstMy44MzMzMDAxMTM2Nzc5Nzg1LCAtNjIuMDgzMzAxNTQ0MTg5NDVdLCBbLTE5LjMzMzI5OTYzNjg0MDgyLCAtNDAuMDY2Njk5OTgxNjg5NDVdLCBbLTMuODMzMzAwMTEzNjc3OTc4NSwgLTUyLjY2NjY5ODQ1NTgxMDU1XSwgWy0xLjAsIC00OS41XSwgWy0xLjcwMDAwMDA0NzY4MzcxNTgsIC01Mi4yMDAwMDA3NjI5Mzk0NV0sIFstMi43NSwgLTU0Ljk4MzI5OTI1NTM3MTA5NF0sIFstMy4wODMzMDAxMTM2Nzc5Nzg1LCAtNTUuMDk5OTk4NDc0MTIxMDk0XSwgWy0yLjY4MzMwMDAxODMxMDU0NywgLTQ5LjY4MzMwMDAxODMxMDU1XSwgWy0yLjI1LCAtNDkuNV0sIFstMi41ODMzMDAxMTM2Nzc5Nzg1LCAtNDkuNV0sIFstMjMuNDUwMDAwNzYyOTM5NDUzLCAtNDYuNzMzMjk5MjU1MzcxMDk0XSwgWy00LjE1MDAwMDA5NTM2NzQzMiwgLTY5Ljk0OTk5Njk0ODI0MjE5XSwgWzcuMDE2Njk5NzkwOTU0NTksIC03Ni4yNjY3MDA3NDQ2Mjg5XSwgWzYuMjUsIC03NS41ODMyOTc3Mjk0OTIxOV0sIFs4LjEwMDAwMDM4MTQ2OTcyNywgLTc2LjcxNjY5NzY5Mjg3MTFdLCBbNy4zNDk5OTk5MDQ2MzI1NjgsIC03NS4wNTAwMDMwNTE3NTc4MV0sIFs5Ljk2NjY5OTYwMDIxOTcyNywgLTc1LjA2NjcwMzc5NjM4NjcyXSwgWzEwLjMwMDAwMDE5MDczNDg2MywgLTc0LjBdLCBbNy4xMTY3MDAxNzI0MjQzMTYsIC03Ny43NjY3MDA3NDQ2Mjg5XSwgWzUuMDUwMDAwMTkwNzM0ODYzLCAtNzYuOTQ5OTk2OTQ4MjQyMTldLCBbNy42NjY2OTk4ODYzMjIwMjE1LCAtNzcuMTY2NzAyMjcwNTA3ODFdLCBbOC4wMTY2OTk3OTA5NTQ1OSwgLTc3LjExNjY5OTIxODc1XSwgWzguMjgzMzAwMzk5NzgwMjczLCAtNzUuNjgzMjk2MjAzNjEzMjhdLCBbNy44NDk5OTk5MDQ2MzI1NjgsIC03Ni4yODMzMDIzMDcxMjg5XSwgWzQuNTgzMzAwMTEzNjc3OTc4NSwgLTc0LjMwMDAwMzA1MTc1NzgxXSwgWzMuODY2Njk5OTM0MDA1NzM3MywgLTY3LjkzMzI5NjIwMzYxMzI4XSwgWzQuMTUwMDAwMDk1MzY3NDMyLCAtNzMuNjE2Njk5MjE4NzVdLCBbMS42ODMzMDAwMTgzMTA1NDY5LCAtNzguMTUwMDAxNTI1ODc4OV0sIFs3LjkwMDAwMDA5NTM2NzQzMiwgLTcyLjUxNjcwMDc0NDYyODldLCBbLTAuMjAwMDAwMDAyOTgwMjMyMjQsIC03NC43NjY3MDA3NDQ2Mjg5XSwgWzAuNDY2Njk5OTg3NjQ5OTE3NiwgLTc1LjMzMzI5NzcyOTQ5MjE5XSwgWzcuMTY2Njk5ODg2MzIyMDIxNSwgLTczLjkxNjcwMjI3MDUwNzgxXSwgWzkuMzAwMDAwMTkwNzM0ODYzLCAtNzUuNDAwMDAxNTI1ODc4OV0sIFs5LjUsIC03NS4zNDk5OTg0NzQxMjExXSwgWzMuNjgzMzAwMDE4MzEwNTQ3LCAtNzcuMDgzMjk3NzI5NDkyMTldLCBbMTAuMzMzMjk5NjM2ODQwODIsIC04NC41XSwgWzkuODgzMjk5ODI3NTc1Njg0LCAtODMuNjMzMzAwNzgxMjVdLCBbMTAuNjMzMjk5ODI3NTc1Njg0LCAtODQuMDE2NzAwNzQ0NjI4OV0sIFs5LjkxNjcwMDM2MzE1OTE4LCAtODMuNTY2NzAzNzk2Mzg2NzJdLCBbOC45NDk5OTk4MDkyNjUxMzcsIC04My40NjY2OTc2OTI4NzExXSwgWy0wLjY5OTk5OTk4ODA3OTA3MSwgLTc3LjEzMzMwMDc4MTI1XSwgWy0xLjQ4MzI5OTk3MDYyNjgzMSwgLTc3Ljk0OTk5Njk0ODI0MjE5XSwgWy0wLjI1LCAtNzkuMTUwMDAxNTI1ODc4OV0sIFsxMy4xODMzMDAwMTgzMTA1NDcsIC04NS45MzMyOTYyMDM2MTMyOF0sIFsxMy45NDk5OTk4MDkyNjUxMzcsIC04NC41MzMzMDIzMDcxMjg5XSwgWzEyLjE0OTk5OTYxODUzMDI3MywgLTg0LjQzMzI5NjIwMzYxMzI4XSwgWzkuMzAwMDAwMTkwNzM0ODYzLCAtODIuNDAwMDAxNTI1ODc4OV0sIFs5LjE2NjcwMDM2MzE1OTE4LCAtNzkuODE2NzAzNzk2Mzg2NzJdLCBbOS4yNSwgLTc5LjkzMzI5NjIwMzYxMzI4XSwgWzkuMjE2Njk5NjAwMjE5NzI3LCAtNzkuOTAwMDAxNTI1ODc4OV0sIFs5LjI4MzMwMDM5OTc4MDI3MywgLTc5LjU5OTk5ODQ3NDEyMTFdLCBbOC4xNjY3MDAzNjMxNTkxOCwgLTc3LjMwMDAwMzA1MTc1NzgxXSwgWzguMCwgLTc3LjU5OTk5ODQ3NDEyMTFdLCBbOC4xMDAwMDAzODE0Njk3MjcsIC03Ny43NV0sIFs3Ljk2NjcwMDA3NzA1Njg4NSwgLTc4LjM2NjY5OTIxODc1XSwgWzcuOTgzMzAwMjA5MDQ1NDEsIC03Ny40MzMyOTYyMDM2MTMyOF0sIFs5LjE0OTk5OTYxODUzMDI3MywgLTc5Ljg0OTk5ODQ3NDEyMTFdLCBbOS4yMzMzMDAyMDkwNDU0MSwgLTc5LjM0OTk5ODQ3NDEyMTFdLCBbOC44NjY3MDAxNzI0MjQzMTYsIC03OS44MDAwMDMwNTE3NTc4MV0sIFs4Ljg5OTk5OTYxODUzMDI3MywgLTc5LjU5OTk5ODQ3NDEyMTFdLCBbLTQuNjUwMDAwMDk1MzY3NDMyLCAtNzcuMTE2Njk5MjE4NzVdLCBbLTIuMzY2Njk5OTM0MDA1NzM3MywgLTc0LjA4MzI5NzcyOTQ5MjE5XSwgWy0zLjc2NjcwMDAyOTM3MzE2OSwgLTczLjI1XSwgWy0zLjMxNjY5OTk4MTY4OTQ1MywgLTcyLjA5OTk5ODQ3NDEyMTFdLCBbLTMuNDMzMzAwMDE4MzEwNTQ3LCAtNzIuMTMzMzAwNzgxMjVdLCBbLTMuNDY2NzAwMDc3MDU2ODg0OCwgLTczLjA1MDAwMzA1MTc1NzgxXSwgWy00LjY5OTk5OTgwOTI2NTEzNywgLTc0LjIxNjY5NzY5Mjg3MTFdLCBbLTYuNzMzMzAwMjA5MDQ1NDEsIC03NS4wOTk5OTg0NzQxMjExXSwgWy01LjgzMzMwMDExMzY3Nzk3ODUsIC03Ni4wNTAwMDMwNTE3NTc4MV0sIFstOC4zODMyOTk4Mjc1NzU2ODQsIC03NC41MzMzMDIzMDcxMjg5XSwgWzMuMDgzMzAwMTEzNjc3OTc4NSwgLTY1LjkxNjcwMjI3MDUwNzgxXSwgWzUuMzAwMDAwMTkwNzM0ODYzLCAtNjYuMjE2Njk3NjkyODcxMV0sIFsxMC4zNjY3MDAxNzI0MjQzMTYsIC02Ni44MzMyOTc3Mjk0OTIxOV0sIFstMTAuMzgzMjk5ODI3NTc1Njg0LCAtNjUuNDAwMDAxNTI1ODc4OV0sIFstMTYuNzk5OTk5MjM3MDYwNTQ3LCAtNjUuMTMzMzAwNzgxMjVdLCBbLTE3LjQ1MDAwMDc2MjkzOTQ1MywgLTYzLjY2NjY5ODQ1NTgxMDU1XSwgWy0xNi4wLCAtNjQuNDE2NzAyMjcwNTA3ODFdLCBbLTE3Ljc5OTk5OTIzNzA2MDU0NywgLTYzLjE2NjY5ODQ1NTgxMDU1XSwgWy0yLjU5OTk5OTkwNDYzMjU2ODQsIC01Ni43MzMyOTkyNTUzNzEwOTRdLCBbLTMuNzAwMDAwMDQ3NjgzNzE2LCAtNTkuMTMzMzAwNzgxMjVdLCBbLTMuMTMzMzAwMDY1OTk0MjYyNywgLTYwLjA4MzMwMTU0NDE4OTQ1XSwgWy0zLjEzMzMwMDA2NTk5NDI2MjcsIC02MC4wMTY3MDA3NDQ2Mjg5MDZdLCBbLTMuODMzMzAwMTEzNjc3OTc4NSwgLTYyLjA4MzMwMTU0NDE4OTQ1XSwgWy0xOS4zMzMyOTk2MzY4NDA4MiwgLTQwLjA2NjY5OTk4MTY4OTQ1XSwgWy0zLjgzMzMwMDExMzY3Nzk3ODUsIC01Mi42NjY2OTg0NTU4MTA1NV0sIFstMS4wLCAtNDkuNV0sIFstMS43MDAwMDAwNDc2ODM3MTU4LCAtNTIuMjAwMDAwNzYyOTM5NDVdLCBbLTIuNzUsIC01NC45ODMyOTkyNTUzNzEwOTRdLCBbLTIuODMzMzAwMTEzNjc3OTc4NSwgLTU1LjEzMzMwMDc4MTI1XSwgWy0zLjA4MzMwMDExMzY3Nzk3ODUsIC01NS4wOTk5OTg0NzQxMjEwOTRdLCBbLTMuNDUwMDAwMDQ3NjgzNzE2LCAtNTUuMjgzMjk4NDkyNDMxNjRdLCBbLTIuNjgzMzAwMDE4MzEwNTQ3LCAtNDkuNjgzMzAwMDE4MzEwNTVdLCBbLTIuMjUsIC00OS41XSwgWy0yLjU4MzMwMDExMzY3Nzk3ODUsIC00OS41XSwgWy0yMy40NTAwMDA3NjI5Mzk0NTMsIC00Ni43MzMyOTkyNTUzNzEwOTRdLCBbNy4wMTY2OTk3OTA5NTQ1OSwgLTc2LjI2NjcwMDc0NDYyODldLCBbNi4yNSwgLTc1LjU4MzI5NzcyOTQ5MjE5XSwgWzguMTAwMDAwMzgxNDY5NzI3LCAtNzYuNzE2Njk3NjkyODcxMV0sIFs3LjM0OTk5OTkwNDYzMjU2OCwgLTc1LjA1MDAwMzA1MTc1NzgxXSwgWzkuOTY2Njk5NjAwMjE5NzI3LCAtNzUuMDY2NzAzNzk2Mzg2NzJdLCBbMTAuMzAwMDAwMTkwNzM0ODYzLCAtNzQuMF0sIFsxMC4xNDk5OTk2MTg1MzAyNzMsIC03My40MzMyOTYyMDM2MTMyOF0sIFs3LjExNjcwMDE3MjQyNDMxNiwgLTc3Ljc2NjcwMDc0NDYyODldLCBbNS4wNTAwMDAxOTA3MzQ4NjMsIC03Ni45NDk5OTY5NDgyNDIxOV0sIFsxMi4zNTAwMDAzODE0Njk3MjcsIC03MS4zMTY3MDM3OTYzODY3Ml0sIFsxLjY4MzMwMDAxODMxMDU0NjksIC03OC4xNTAwMDE1MjU4Nzg5XSwgWy0wLjIwMDAwMDAwMjk4MDIzMjI0LCAtNzQuNzY2NzAwNzQ0NjI4OV0sIFswLjQ2NjY5OTk4NzY0OTkxNzYsIC03NS4zMzMyOTc3Mjk0OTIxOV0sIFs3LjE2NjY5OTg4NjMyMjAyMTUsIC03My45MTY3MDIyNzA1MDc4MV0sIFs5LjMwMDAwMDE5MDczNDg2MywgLTc1LjQwMDAwMTUyNTg3ODldLCBbNC4wLCAtNzYuOTMzMjk2MjAzNjEzMjhdLCBbMy42ODMzMDAwMTgzMTA1NDcsIC03Ny4wODMyOTc3Mjk0OTIxOV0sIFsxMC4zMzMyOTk2MzY4NDA4MiwgLTg0LjVdLCBbOS44ODMyOTk4Mjc1NzU2ODQsIC04My42MzMzMDA3ODEyNV0sIFsxMC42MzMyOTk4Mjc1NzU2ODQsIC04NC4wMTY3MDA3NDQ2Mjg5XSwgWzkuOTE2NzAwMzYzMTU5MTgsIC04My41NjY3MDM3OTYzODY3Ml0sIFs4Ljk0OTk5OTgwOTI2NTEzNywgLTgzLjQ2NjY5NzY5Mjg3MTFdLCBbLTMuNzE2NzAwMDc3MDU2ODg0OCwgLTc5LjY1MDAwMTUyNTg3ODldLCBbMC4zMzMyOTk5OTQ0Njg2ODg5NiwgLTc5LjQ2NjY5NzY5Mjg3MTFdLCBbLTEuNTMzMzAwMDQyMTUyNDA0OCwgLTc5Ljc1XSwgWy0wLjQ2NjY5OTk4NzY0OTkxNzYsIC03OS41OTk5OTg0NzQxMjExXSwgWy0wLjY5OTk5OTk4ODA3OTA3MSwgLTc3LjEzMzMwMDc4MTI1XSwgWy0xLjQ4MzI5OTk3MDYyNjgzMSwgLTc3Ljk0OTk5Njk0ODI0MjE5XSwgWzEwLjkzMzMwMDAxODMxMDU0NywgLTgzLjY5OTk5Njk0ODI0MjE5XSwgWzEyLjE0OTk5OTYxODUzMDI3MywgLTg0LjQzMzI5NjIwMzYxMzI4XSwgWzEyLjE0OTk5OTYxODUzMDI3MywgLTgzLjc2NjcwMDc0NDYyODldLCBbOS4zMDAwMDAxOTA3MzQ4NjMsIC04Mi40MDAwMDE1MjU4Nzg5XSwgWzkuNDQ5OTk5ODA5MjY1MTM3LCAtODIuNTE2NzAwNzQ0NjI4OV0sIFs4LjkzMzMwMDAxODMxMDU0NywgLTgxLjgwMDAwMzA1MTc1NzgxXSwgWzkuNjAwMDAwMzgxNDY5NzI3LCAtODIuNzgzMzAyMzA3MTI4OV0sIFs5LjE4MzMwMDAxODMxMDU0NywgLTgyLjI1XSwgWzkuMTY2NzAwMzYzMTU5MTgsIC03OS44MTY3MDM3OTYzODY3Ml0sIFs5LjI1LCAtNzkuOTgzMjk5MjU1MzcxMV0sIFs4LjE2NjcwMDM2MzE1OTE4LCAtNzcuMzAwMDAzMDUxNzU3ODFdLCBbOC4wLCAtNzcuNTk5OTk4NDc0MTIxMV0sIFs4LjEzMzI5OTgyNzU3NTY4NCwgLTc3LjczMzI5OTI1NTM3MTFdLCBbNy45NjY3MDAwNzcwNTY4ODUsIC03OC4zNjY2OTkyMTg3NV0sIFs3Ljk4MzMwMDIwOTA0NTQxLCAtNzcuNDMzMjk2MjAzNjEzMjhdLCBbOC45NDk5OTk4MDkyNjUxMzcsIC03OS41ODMyOTc3Mjk0OTIxOV0sIFs5LjE0OTk5OTYxODUzMDI3MywgLTc5Ljg0OTk5ODQ3NDEyMTFdLCBbOS4yMzMzMDAyMDkwNDU0MSwgLTc5LjM0OTk5ODQ3NDEyMTFdLCBbOC44NjY3MDAxNzI0MjQzMTYsIC03OS44MDAwMDMwNTE3NTc4MV0sIFstNC42NTAwMDAwOTUzNjc0MzIsIC03Ny4xMTY2OTkyMTg3NV0sIFstMi4zNjY2OTk5MzQwMDU3MzczLCAtNzQuMDgzMjk3NzI5NDkyMTldLCBbLTMuNzY2NzAwMDI5MzczMTY5LCAtNzMuMjVdLCBbLTQuODMzMzAwMTEzNjc3OTc4NSwgLTc0LjIxNjY5NzY5Mjg3MTFdLCBbLTMuNDY2NzAwMDc3MDU2ODg0OCwgLTczLjA1MDAwMzA1MTc1NzgxXSwgWy02LjczMzMwMDIwOTA0NTQxLCAtNzUuMDk5OTk4NDc0MTIxMV0sIFstNS44MzMzMDAxMTM2Nzc5Nzg1LCAtNzYuMDUwMDAzMDUxNzU3ODFdLCBbLTguMzgzMjk5ODI3NTc1Njg0LCAtNzQuNTMzMzAyMzA3MTI4OV0sIFszLjA4MzMwMDExMzY3Nzk3ODUsIC02NS45MTY3MDIyNzA1MDc4MV0sIFs1LjMwMDAwMDE5MDczNDg2MywgLTY2LjIxNjY5NzY5Mjg3MTFdLCBbMTAuNTMzMzAwMzk5NzgwMjczLCAtNjguMzgzMzAwNzgxMjVdLCBbOS4xNDk5OTk2MTg1MzAyNzMsIC03Mi41OTk5OTg0NzQxMjExXSwgWy0xMC4zODMyOTk4Mjc1NzU2ODQsIC02NS40MDAwMDE1MjU4Nzg5XSwgWy0xMC4zODMyOTk4Mjc1NzU2ODQsIC02NS4zODMzMDA3ODEyNV0sIFstMTYuNzk5OTk5MjM3MDYwNTQ3LCAtNjUuMTMzMzAwNzgxMjVdLCBbLTE3LjM5OTk5OTYxODUzMDI3MywgLTYzLjg0OTk5ODQ3NDEyMTA5NF0sIFstMTYuMCwgLTY0LjQxNjcwMjI3MDUwNzgxXSwgWy0xNy43OTk5OTkyMzcwNjA1NDcsIC02My4xNjY2OTg0NTU4MTA1NV0sIFstMi41OTk5OTk5MDQ2MzI1Njg0LCAtNTYuNzMzMjk5MjU1MzcxMDk0XSwgWy0zLjcwMDAwMDA0NzY4MzcxNiwgLTU5LjEzMzMwMDc4MTI1XSwgWy0zLjEzMzMwMDA2NTk5NDI2MjcsIC02MC4wODMzMDE1NDQxODk0NV0sIFstMC41MTY3MDAwMjkzNzMxNjksIC02NC44MzMyOTc3Mjk0OTIxOV0sIFstMy4xMzMzMDAwNjU5OTQyNjI3LCAtNjAuMDE2NzAwNzQ0NjI4OTA2XSwgWy0zLjgzMzMwMDExMzY3Nzk3ODUsIC02Mi4wODMzMDE1NDQxODk0NV0sIFstMy44MzMzMDAxMTM2Nzc5Nzg1LCAtNTIuNjY2Njk4NDU1ODEwNTVdLCBbLTEuOTE2NzAwMDA1NTMxMzExLCAtNTUuNTQ5OTk5MjM3MDYwNTVdLCBbLTEuNzAwMDAwMDQ3NjgzNzE1OCwgLTUyLjIwMDAwMDc2MjkzOTQ1XSwgWy0yLjc1LCAtNTQuOTgzMjk5MjU1MzcxMDk0XSwgWy0zLjY2NjY5OTg4NjMyMjAyMTUsIC01NS41XSwgWy0yLjgzMzMwMDExMzY3Nzk3ODUsIC01NS4xMzMzMDA3ODEyNV0sIFstMy4wODMzMDAxMTM2Nzc5Nzg1LCAtNTUuMDk5OTk4NDc0MTIxMDk0XSwgWy0yLjY4MzMwMDAxODMxMDU0NywgLTQ5LjY4MzMwMDAxODMxMDU1XSwgWy0yLjI1LCAtNDkuNV0sIFstMjMuNDUwMDAwNzYyOTM5NDUzLCAtNDYuNzMzMjk5MjU1MzcxMDk0XSwgWy00LjE1MDAwMDA5NTM2NzQzMiwgLTY5Ljk0OTk5Njk0ODI0MjE5XSwgWzcuMDE2Njk5NzkwOTU0NTksIC03Ni4yNjY3MDA3NDQ2Mjg5XSwgWzYuMjUsIC03NS41ODMyOTc3Mjk0OTIxOV0sIFs4LjEwMDAwMDM4MTQ2OTcyNywgLTc2LjcxNjY5NzY5Mjg3MTFdLCBbNy4zNDk5OTk5MDQ2MzI1NjgsIC03NS4wNTAwMDMwNTE3NTc4MV0sIFsxMC4zMDAwMDAxOTA3MzQ4NjMsIC03NC4wXSwgWzUuMDk5OTk5OTA0NjMyNTY4LCAtNzYuNjgzMjk2MjAzNjEzMjhdLCBbNy4xMTY3MDAxNzI0MjQzMTYsIC03Ny43NjY3MDA3NDQ2Mjg5XSwgWzUuNjk5OTk5ODA5MjY1MTM3LCAtNzYuNjY2NzAyMjcwNTA3ODFdLCBbOC4wMTY2OTk3OTA5NTQ1OSwgLTc3LjExNjY5OTIxODc1XSwgWzguMjgzMzAwMzk5NzgwMjczLCAtNzUuNjgzMjk2MjAzNjEzMjhdLCBbNy44NDk5OTk5MDQ2MzI1NjgsIC03Ni4yODMzMDIzMDcxMjg5XSwgWzQuNTgzMzAwMTEzNjc3OTc4NSwgLTc0LjMwMDAwMzA1MTc1NzgxXSwgWzQuMTUwMDAwMDk1MzY3NDMyLCAtNzMuNjE2Njk5MjE4NzVdLCBbOC41LCAtNzIuNTgzMjk3NzI5NDkyMTldLCBbNy45MDAwMDAwOTUzNjc0MzIsIC03Mi41MTY3MDA3NDQ2Mjg5XSwgWy0wLjIwMDAwMDAwMjk4MDIzMjI0LCAtNzQuNzY2NzAwNzQ0NjI4OV0sIFswLjQ2NjY5OTk4NzY0OTkxNzYsIC03NS4zMzMyOTc3Mjk0OTIxOV0sIFs3LjE2NjY5OTg4NjMyMjAyMTUsIC03My45MTY3MDIyNzA1MDc4MV0sIFs5LjMwMDAwMDE5MDczNDg2MywgLTc1LjQwMDAwMTUyNTg3ODldLCBbOS41LCAtNzUuMzQ5OTk4NDc0MTIxMV0sIFs0LjAsIC03Ni45MzMyOTYyMDM2MTMyOF0sIFszLjY4MzMwMDAxODMxMDU0NywgLTc3LjA4MzI5NzcyOTQ5MjE5XSwgWzkuODgzMjk5ODI3NTc1Njg0LCAtODMuNjMzMzAwNzgxMjVdLCBbMTAuNjMzMjk5ODI3NTc1Njg0LCAtODQuMDE2NzAwNzQ0NjI4OV0sIFs5LjkxNjcwMDM2MzE1OTE4LCAtODMuNTY2NzAzNzk2Mzg2NzJdLCBbOC45NDk5OTk4MDkyNjUxMzcsIC04My40NjY2OTc2OTI4NzExXSwgWy0zLjcxNjcwMDA3NzA1Njg4NDgsIC03OS42NTAwMDE1MjU4Nzg5XSwgWzAuMzMzMjk5OTk0NDY4Njg4OTYsIC03OS40NjY2OTc2OTI4NzExXSwgWy0xLjUzMzMwMDA0MjE1MjQwNDgsIC03OS43NV0sIFstMC42OTk5OTk5ODgwNzkwNzEsIC03Ny4xMzMzMDA3ODEyNV0sIFstMS40ODMyOTk5NzA2MjY4MzEsIC03Ny45NDk5OTY5NDgyNDIxOV0sIFstMC4yNSwgLTc5LjE1MDAwMTUyNTg3ODldLCBbMTMuMTgzMzAwMDE4MzEwNTQ3LCAtODUuOTMzMjk2MjAzNjEzMjhdLCBbMTAuOTMzMzAwMDE4MzEwNTQ3LCAtODMuNjk5OTk2OTQ4MjQyMTldLCBbMTMuOTQ5OTk5ODA5MjY1MTM3LCAtODQuNTMzMzAyMzA3MTI4OV0sIFsxMi4xNDk5OTk2MTg1MzAyNzMsIC04NC40MzMyOTYyMDM2MTMyOF0sIFs5LjMwMDAwMDE5MDczNDg2MywgLTgyLjQwMDAwMTUyNTg3ODldLCBbOS40NDk5OTk4MDkyNjUxMzcsIC04Mi41MTY3MDA3NDQ2Mjg5XSwgWzkuMTgzMzAwMDE4MzEwNTQ3LCAtODIuMjVdLCBbOS4xNjY3MDAzNjMxNTkxOCwgLTc5LjgxNjcwMzc5NjM4NjcyXSwgWzkuMjUsIC03OS45ODMyOTkyNTUzNzExXSwgWzkuMjE2Njk5NjAwMjE5NzI3LCAtNzkuOTAwMDAxNTI1ODc4OV0sIFs5LjI4MzMwMDM5OTc4MDI3MywgLTc5LjU5OTk5ODQ3NDEyMTFdLCBbOC4xNjY3MDAzNjMxNTkxOCwgLTc3LjMwMDAwMzA1MTc1NzgxXSwgWzguMTAwMDAwMzgxNDY5NzI3LCAtNzcuNzVdLCBbNy45ODMzMDAyMDkwNDU0MSwgLTc3LjQzMzI5NjIwMzYxMzI4XSwgWzguOTQ5OTk5ODA5MjY1MTM3LCAtNzkuNTgzMjk3NzI5NDkyMTldLCBbOS4yMzMzMDAyMDkwNDU0MSwgLTc5LjM0OTk5ODQ3NDEyMTFdLCBbOC44NjY3MDAxNzI0MjQzMTYsIC03OS44MDAwMDMwNTE3NTc4MV0sIFs4Ljg5OTk5OTYxODUzMDI3MywgLTc5LjU5OTk5ODQ3NDEyMTFdLCBbLTQuNjUwMDAwMDk1MzY3NDMyLCAtNzcuMTE2Njk5MjE4NzVdLCBbLTMuNzY2NzAwMDI5MzczMTY5LCAtNzMuMjVdLCBbLTMuMzE2Njk5OTgxNjg5NDUzLCAtNzIuMDk5OTk4NDc0MTIxMV0sIFstMy40MzMzMDAwMTgzMTA1NDcsIC03Mi4xMzMzMDA3ODEyNV0sIFstNC42OTk5OTk4MDkyNjUxMzcsIC03NC4yMTY2OTc2OTI4NzExXSwgWy01LjgzMzMwMDExMzY3Nzk3ODUsIC03Ni4wNTAwMDMwNTE3NTc4MV0sIFsxMC4zNjY3MDAxNzI0MjQzMTYsIC02Ni44MzMyOTc3Mjk0OTIxOV0sIFs5LjE0OTk5OTYxODUzMDI3MywgLTcyLjU5OTk5ODQ3NDEyMTFdLCBbLTEwLjM4MzI5OTgyNzU3NTY4NCwgLTY1LjQwMDAwMTUyNTg3ODldLCBbLTEwLjM4MzI5OTgyNzU3NTY4NCwgLTY1LjM4MzMwMDc4MTI1XSwgWy0xNi43OTk5OTkyMzcwNjA1NDcsIC02NS4xMzMzMDA3ODEyNV0sIFstMTcuNDUwMDAwNzYyOTM5NDUzLCAtNjMuNjY2Njk4NDU1ODEwNTVdLCBbLTE3LjM5OTk5OTYxODUzMDI3MywgLTYzLjg0OTk5ODQ3NDEyMTA5NF0sIFstMTYuMCwgLTY0LjQxNjcwMjI3MDUwNzgxXSwgWy0xNy43OTk5OTkyMzcwNjA1NDcsIC02My4xNjY2OTg0NTU4MTA1NV0sIFstMi41OTk5OTk5MDQ2MzI1Njg0LCAtNTYuNzMzMjk5MjU1MzcxMDk0XSwgWy0zLjEzMzMwMDA2NTk5NDI2MjcsIC02MC4wODMzMDE1NDQxODk0NV0sIFstMC41MTY3MDAwMjkzNzMxNjksIC02NC44MzMyOTc3Mjk0OTIxOV0sIFstMy44MzMzMDAxMTM2Nzc5Nzg1LCAtNjIuMDgzMzAxNTQ0MTg5NDVdLCBbLTE5LjMzMzI5OTYzNjg0MDgyLCAtNDAuMDY2Njk5OTgxNjg5NDVdLCBbLTMuODMzMzAwMTEzNjc3OTc4NSwgLTUyLjY2NjY5ODQ1NTgxMDU1XSwgWy0xLjAsIC00OS41XSwgWy0xLjcwMDAwMDA0NzY4MzcxNTgsIC01Mi4yMDAwMDA3NjI5Mzk0NV0sIFstMi43NSwgLTU0Ljk4MzI5OTI1NTM3MTA5NF0sIFstMy42NjY2OTk4ODYzMjIwMjE1LCAtNTUuNV0sIFstMi44MzMzMDAxMTM2Nzc5Nzg1LCAtNTUuMTMzMzAwNzgxMjVdLCBbLTIuNDMzMzAwMDE4MzEwNTQ3LCAtNTUuMF0sIFstMy40NTAwMDAwNDc2ODM3MTYsIC01NS4yODMyOTg0OTI0MzE2NF0sIFstMi4yNSwgLTQ5LjVdLCBbLTIuNTgzMzAwMTEzNjc3OTc4NSwgLTQ5LjVdLCBbLTQuMTUwMDAwMDk1MzY3NDMyLCAtNjkuOTQ5OTk2OTQ4MjQyMTldLCBbNy4wMTY2OTk3OTA5NTQ1OSwgLTc2LjI2NjcwMDc0NDYyODldLCBbNi4yNSwgLTc1LjU4MzI5NzcyOTQ5MjE5XSwgWzcuMzQ5OTk5OTA0NjMyNTY4LCAtNzUuMDUwMDAzMDUxNzU3ODFdLCBbOS45NjY2OTk2MDAyMTk3MjcsIC03NS4wNjY3MDM3OTYzODY3Ml0sIFs1LjA5OTk5OTkwNDYzMjU2OCwgLTc2LjY4MzI5NjIwMzYxMzI4XSwgWzcuMTE2NzAwMTcyNDI0MzE2LCAtNzcuNzY2NzAwNzQ0NjI4OV0sIFs1LjY5OTk5OTgwOTI2NTEzNywgLTc2LjY2NjcwMjI3MDUwNzgxXSwgWzUuMDUwMDAwMTkwNzM0ODYzLCAtNzYuOTQ5OTk2OTQ4MjQyMTldLCBbNy42NjY2OTk4ODYzMjIwMjE1LCAtNzcuMTY2NzAyMjcwNTA3ODFdLCBbOC4wMTY2OTk3OTA5NTQ1OSwgLTc3LjExNjY5OTIxODc1XSwgWzguMjgzMzAwMzk5NzgwMjczLCAtNzUuNjgzMjk2MjAzNjEzMjhdLCBbOS4xMTY3MDAxNzI0MjQzMTYsIC03NC43MzMyOTkyNTUzNzExXSwgWzcuODQ5OTk5OTA0NjMyNTY4LCAtNzYuMjgzMzAyMzA3MTI4OV0sIFs0LjU4MzMwMDExMzY3Nzk3ODUsIC03NC4zMDAwMDMwNTE3NTc4MV0sIFszLjg2NjY5OTkzNDAwNTczNzMsIC02Ny45MzMyOTYyMDM2MTMyOF0sIFsxMi4zNTAwMDAzODE0Njk3MjcsIC03MS4zMTY3MDM3OTYzODY3Ml0sIFs0LjE1MDAwMDA5NTM2NzQzMiwgLTczLjYxNjY5OTIxODc1XSwgWzEuNjgzMzAwMDE4MzEwNTQ2OSwgLTc4LjE1MDAwMTUyNTg3ODldLCBbNy45MDAwMDAwOTUzNjc0MzIsIC03Mi41MTY3MDA3NDQ2Mjg5XSwgWy0wLjIwMDAwMDAwMjk4MDIzMjI0LCAtNzQuNzY2NzAwNzQ0NjI4OV0sIFswLjQ2NjY5OTk4NzY0OTkxNzYsIC03NS4zMzMyOTc3Mjk0OTIxOV0sIFs5LjMwMDAwMDE5MDczNDg2MywgLTc1LjQwMDAwMTUyNTg3ODldLCBbOS41LCAtNzUuMzQ5OTk4NDc0MTIxMV0sIFszLjY4MzMwMDAxODMxMDU0NywgLTc3LjA4MzI5NzcyOTQ5MjE5XSwgWzEwLjMzMzI5OTYzNjg0MDgyLCAtODQuNV0sIFs5Ljg4MzI5OTgyNzU3NTY4NCwgLTgzLjYzMzMwMDc4MTI1XSwgWy0zLjcxNjcwMDA3NzA1Njg4NDgsIC03OS42NTAwMDE1MjU4Nzg5XSwgWy0xLjUzMzMwMDA0MjE1MjQwNDgsIC03OS43NV0sIFstMC40NjY2OTk5ODc2NDk5MTc2LCAtNzkuNTk5OTk4NDc0MTIxMV0sIFstMC42OTk5OTk5ODgwNzkwNzEsIC03Ny4xMzMzMDA3ODEyNV0sIFstMC4yNSwgLTc5LjE1MDAwMTUyNTg3ODldLCBbMTMuOTQ5OTk5ODA5MjY1MTM3LCAtODQuNTMzMzAyMzA3MTI4OV0sIFsxMi4xNDk5OTk2MTg1MzAyNzMsIC04My43NjY3MDA3NDQ2Mjg5XSwgWzkuMzAwMDAwMTkwNzM0ODYzLCAtODIuNDAwMDAxNTI1ODc4OV0sIFs5LjQ0OTk5OTgwOTI2NTEzNywgLTgyLjUxNjcwMDc0NDYyODldLCBbOS42MDAwMDAzODE0Njk3MjcsIC04Mi43ODMzMDIzMDcxMjg5XSwgWzkuMTgzMzAwMDE4MzEwNTQ3LCAtODIuMjVdLCBbOS4xNjY3MDAzNjMxNTkxOCwgLTc5LjgxNjcwMzc5NjM4NjcyXSwgWzkuMjUsIC03OS45MzMyOTYyMDM2MTMyOF0sIFs5LjIxNjY5OTYwMDIxOTcyNywgLTc5LjkwMDAwMTUyNTg3ODldLCBbOS4yODMzMDAzOTk3ODAyNzMsIC03OS41OTk5OTg0NzQxMjExXSwgWzguMCwgLTc3LjU5OTk5ODQ3NDEyMTFdLCBbOC4xMzMyOTk4Mjc1NzU2ODQsIC03Ny43MzMyOTkyNTUzNzExXSwgWzcuOTgzMzAwMjA5MDQ1NDEsIC03Ny40MzMyOTYyMDM2MTMyOF0sIFs4Ljk0OTk5OTgwOTI2NTEzNywgLTc5LjU4MzI5NzcyOTQ5MjE5XSwgWzkuMjMzMzAwMjA5MDQ1NDEsIC03OS4zNDk5OTg0NzQxMjExXSwgWzguODY2NzAwMTcyNDI0MzE2LCAtNzkuODAwMDAzMDUxNzU3ODFdLCBbOC44OTk5OTk2MTg1MzAyNzMsIC03OS41OTk5OTg0NzQxMjExXSwgWy0yLjM2NjY5OTkzNDAwNTczNzMsIC03NC4wODMyOTc3Mjk0OTIxOV0sIFstNC44MzMzMDAxMTM2Nzc5Nzg1LCAtNzQuMjE2Njk3NjkyODcxMV0sIFstMy4zMTY2OTk5ODE2ODk0NTMsIC03Mi4wOTk5OTg0NzQxMjExXSwgWy0zLjQzMzMwMDAxODMxMDU0NywgLTcyLjEzMzMwMDc4MTI1XSwgWy0zLjQ2NjcwMDA3NzA1Njg4NDgsIC03My4wNTAwMDMwNTE3NTc4MV0sIFstNi43MzMzMDAyMDkwNDU0MSwgLTc1LjA5OTk5ODQ3NDEyMTFdLCBbLTUuODMzMzAwMTEzNjc3OTc4NSwgLTc2LjA1MDAwMzA1MTc1NzgxXSwgWy04LjM4MzI5OTgyNzU3NTY4NCwgLTc0LjUzMzMwMjMwNzEyODldLCBbMy4xNjY2OTk4ODYzMjIwMjE1LCAtNjUuNTUwMDAzMDUxNzU3ODFdLCBbNS4zMDAwMDAxOTA3MzQ4NjMsIC02Ni4yMTY2OTc2OTI4NzExXSwgWy0xMC4zODMyOTk4Mjc1NzU2ODQsIC02NS40MDAwMDE1MjU4Nzg5XSwgWy0xMC4zODMyOTk4Mjc1NzU2ODQsIC02NS4zODMzMDA3ODEyNV0sIFstMTYuNzk5OTk5MjM3MDYwNTQ3LCAtNjUuMTMzMzAwNzgxMjVdLCBbLTE2LjAsIC02NC40MTY3MDIyNzA1MDc4MV0sIFstMTcuNzk5OTk5MjM3MDYwNTQ3LCAtNjMuMTY2Njk4NDU1ODEwNTVdLCBbLTMuMTMzMzAwMDY1OTk0MjYyNywgLTYwLjA4MzMwMTU0NDE4OTQ1XSwgWy0wLjUxNjcwMDAyOTM3MzE2OSwgLTY0LjgzMzI5NzcyOTQ5MjE5XSwgWy0zLjEzMzMwMDA2NTk5NDI2MjcsIC02MC4wMTY3MDA3NDQ2Mjg5MDZdLCBbLTMuODMzMzAwMTEzNjc3OTc4NSwgLTYyLjA4MzMwMTU0NDE4OTQ1XSwgWy0xLjkxNjcwMDAwNTUzMTMxMSwgLTU1LjU0OTk5OTIzNzA2MDU1XSwgWy0xLjcwMDAwMDA0NzY4MzcxNTgsIC01Mi4yMDAwMDA3NjI5Mzk0NV0sIFstMi43NSwgLTU0Ljk4MzI5OTI1NTM3MTA5NF0sIFstMy42NjY2OTk4ODYzMjIwMjE1LCAtNTUuNV0sIFstMi44MzMzMDAxMTM2Nzc5Nzg1LCAtNTUuMTMzMzAwNzgxMjVdLCBbLTIuNDMzMzAwMDE4MzEwNTQ3LCAtNTUuMF0sIFstMy4wODMzMDAxMTM2Nzc5Nzg1LCAtNTUuMDk5OTk4NDc0MTIxMDk0XSwgWy0zLjQ1MDAwMDA0NzY4MzcxNiwgLTU1LjI4MzI5ODQ5MjQzMTY0XSwgWy0yLjY4MzMwMDAxODMxMDU0NywgLTQ5LjY4MzMwMDAxODMxMDU1XSwgWy0yMy40NTAwMDA3NjI5Mzk0NTMsIC00Ni43MzMyOTkyNTUzNzEwOTRdLCBbLTQuMTUwMDAwMDk1MzY3NDMyLCAtNjkuOTQ5OTk2OTQ4MjQyMTldLCBbNi4yNSwgLTc1LjU4MzI5NzcyOTQ5MjE5XSwgWzguMTAwMDAwMzgxNDY5NzI3LCAtNzYuNzE2Njk3NjkyODcxMV0sIFs3LjM0OTk5OTkwNDYzMjU2OCwgLTc1LjA1MDAwMzA1MTc1NzgxXSwgWzkuOTY2Njk5NjAwMjE5NzI3LCAtNzUuMDY2NzAzNzk2Mzg2NzJdLCBbMTAuMzAwMDAwMTkwNzM0ODYzLCAtNzQuMF0sIFsxMC4xNDk5OTk2MTg1MzAyNzMsIC03My40MzMyOTYyMDM2MTMyOF0sIFs3LjExNjcwMDE3MjQyNDMxNiwgLTc3Ljc2NjcwMDc0NDYyODldLCBbNS42OTk5OTk4MDkyNjUxMzcsIC03Ni42NjY3MDIyNzA1MDc4MV0sIFs1LjA1MDAwMDE5MDczNDg2MywgLTc2Ljk0OTk5Njk0ODI0MjE5XSwgWzcuNjY2Njk5ODg2MzIyMDIxNSwgLTc3LjE2NjcwMjI3MDUwNzgxXSwgWzguMDE2Njk5NzkwOTU0NTksIC03Ny4xMTY2OTkyMTg3NV0sIFs0LjU4MzMwMDExMzY3Nzk3ODUsIC03NC4zMDAwMDMwNTE3NTc4MV0sIFszLjg2NjY5OTkzNDAwNTczNzMsIC02Ny45MzMyOTYyMDM2MTMyOF0sIFsxMi4zNTAwMDAzODE0Njk3MjcsIC03MS4zMTY3MDM3OTYzODY3Ml0sIFsxLjY4MzMwMDAxODMxMDU0NjksIC03OC4xNTAwMDE1MjU4Nzg5XSwgWzguNSwgLTcyLjU4MzI5NzcyOTQ5MjE5XSwgWy0wLjIwMDAwMDAwMjk4MDIzMjI0LCAtNzQuNzY2NzAwNzQ0NjI4OV0sIFswLjQ2NjY5OTk4NzY0OTkxNzYsIC03NS4zMzMyOTc3Mjk0OTIxOV0sIFs3LjE2NjY5OTg4NjMyMjAyMTUsIC03My45MTY3MDIyNzA1MDc4MV0sIFs5LjMwMDAwMDE5MDczNDg2MywgLTc1LjQwMDAwMTUyNTg3ODldLCBbOS41LCAtNzUuMzQ5OTk4NDc0MTIxMV0sIFszLjY4MzMwMDAxODMxMDU0NywgLTc3LjA4MzI5NzcyOTQ5MjE5XSwgWzEwLjMzMzI5OTYzNjg0MDgyLCAtODQuNV0sIFs5LjkxNjcwMDM2MzE1OTE4LCAtODMuNTY2NzAzNzk2Mzg2NzJdLCBbOC45NDk5OTk4MDkyNjUxMzcsIC04My40NjY2OTc2OTI4NzExXSwgWy0zLjcxNjcwMDA3NzA1Njg4NDgsIC03OS42NTAwMDE1MjU4Nzg5XSwgWy0wLjQ2NjY5OTk4NzY0OTkxNzYsIC03OS41OTk5OTg0NzQxMjExXSwgWy0wLjI1LCAtNzkuMTUwMDAxNTI1ODc4OV0sIFsxMy4xODMzMDAwMTgzMTA1NDcsIC04NS45MzMyOTYyMDM2MTMyOF0sIFsxMC45MzMzMDAwMTgzMTA1NDcsIC04My42OTk5OTY5NDgyNDIxOV0sIFsxMi4xNDk5OTk2MTg1MzAyNzMsIC04NC40MzMyOTYyMDM2MTMyOF0sIFsxMi4xNDk5OTk2MTg1MzAyNzMsIC04My43NjY3MDA3NDQ2Mjg5XSwgWzkuMzAwMDAwMTkwNzM0ODYzLCAtODIuNDAwMDAxNTI1ODc4OV0sIFs4LjkzMzMwMDAxODMxMDU0NywgLTgxLjgwMDAwMzA1MTc1NzgxXSwgWzkuNjAwMDAwMzgxNDY5NzI3LCAtODIuNzgzMzAyMzA3MTI4OV0sIFs5LjE2NjcwMDM2MzE1OTE4LCAtNzkuODE2NzAzNzk2Mzg2NzJdLCBbOS4yNSwgLTc5LjkzMzI5NjIwMzYxMzI4XSwgWzkuMjUsIC03OS45ODMyOTkyNTUzNzExXSwgWzkuMjE2Njk5NjAwMjE5NzI3LCAtNzkuOTAwMDAxNTI1ODc4OV0sIFs5LjI4MzMwMDM5OTc4MDI3MywgLTc5LjU5OTk5ODQ3NDEyMTFdLCBbOC4xNjY3MDAzNjMxNTkxOCwgLTc3LjMwMDAwMzA1MTc1NzgxXSwgWzguMCwgLTc3LjU5OTk5ODQ3NDEyMTFdLCBbOC4xMDAwMDAzODE0Njk3MjcsIC03Ny43NV0sIFs4LjEzMzI5OTgyNzU3NTY4NCwgLTc3LjczMzI5OTI1NTM3MTFdLCBbNy45NjY3MDAwNzcwNTY4ODUsIC03OC4zNjY2OTkyMTg3NV0sIFs3Ljk4MzMwMDIwOTA0NTQxLCAtNzcuNDMzMjk2MjAzNjEzMjhdLCBbOC45NDk5OTk4MDkyNjUxMzcsIC03OS41ODMyOTc3Mjk0OTIxOV0sIFs4Ljg2NjcwMDE3MjQyNDMxNiwgLTc5LjgwMDAwMzA1MTc1NzgxXSwgWy00LjY1MDAwMDA5NTM2NzQzMiwgLTc3LjExNjY5OTIxODc1XSwgWy00LjgzMzMwMDExMzY3Nzk3ODUsIC03NC4yMTY2OTc2OTI4NzExXSwgWy0zLjQzMzMwMDAxODMxMDU0NywgLTcyLjEzMzMwMDc4MTI1XSwgWy00LjY5OTk5OTgwOTI2NTEzNywgLTc0LjIxNjY5NzY5Mjg3MTFdLCBbLTYuNzMzMzAwMjA5MDQ1NDEsIC03NS4wOTk5OTg0NzQxMjExXSwgWy01LjgzMzMwMDExMzY3Nzk3ODUsIC03Ni4wNTAwMDMwNTE3NTc4MV0sIFstOC4zODMyOTk4Mjc1NzU2ODQsIC03NC41MzMzMDIzMDcxMjg5XSwgWzMuMTY2Njk5ODg2MzIyMDIxNSwgLTY1LjU1MDAwMzA1MTc1NzgxXSwgWzMuMDgzMzAwMTEzNjc3OTc4NSwgLTY1LjkxNjcwMjI3MDUwNzgxXSwgWzUuMzAwMDAwMTkwNzM0ODYzLCAtNjYuMjE2Njk3NjkyODcxMV0sIFsxMC4zNjY3MDAxNzI0MjQzMTYsIC02Ny42ODMyOTYyMDM2MTMyOF0sIFsxMC41MzMzMDAzOTk3ODAyNzMsIC02OC4zODMzMDA3ODEyNV0sIFs5LjE0OTk5OTYxODUzMDI3MywgLTcyLjU5OTk5ODQ3NDEyMTFdLCBbLTEwLjM4MzI5OTgyNzU3NTY4NCwgLTY1LjM4MzMwMDc4MTI1XSwgWy0xNi43OTk5OTkyMzcwNjA1NDcsIC02NS4xMzMzMDA3ODEyNV0sIFstMTcuNDUwMDAwNzYyOTM5NDUzLCAtNjMuNjY2Njk4NDU1ODEwNTVdLCBbLTE3LjM5OTk5OTYxODUzMDI3MywgLTYzLjg0OTk5ODQ3NDEyMTA5NF0sIFstMTYuMCwgLTY0LjQxNjcwMjI3MDUwNzgxXSwgWy0zLjcwMDAwMDA0NzY4MzcxNiwgLTU5LjEzMzMwMDc4MTI1XSwgWy0zLjEzMzMwMDA2NTk5NDI2MjcsIC02MC4wODMzMDE1NDQxODk0NV0sIFstMy4xMzMzMDAwNjU5OTQyNjI3LCAtNjAuMDE2NzAwNzQ0NjI4OTA2XSwgWy0zLjgzMzMwMDExMzY3Nzk3ODUsIC02Mi4wODMzMDE1NDQxODk0NV0sIFstMTkuMzMzMjk5NjM2ODQwODIsIC00MC4wNjY2OTk5ODE2ODk0NV0sIFstMy44MzMzMDAxMTM2Nzc5Nzg1LCAtNTIuNjY2Njk4NDU1ODEwNTVdLCBbLTEuNzAwMDAwMDQ3NjgzNzE1OCwgLTUyLjIwMDAwMDc2MjkzOTQ1XSwgWy0yLjc1LCAtNTQuOTgzMjk5MjU1MzcxMDk0XSwgWy0zLjY2NjY5OTg4NjMyMjAyMTUsIC01NS41XSwgWy0yLjgzMzMwMDExMzY3Nzk3ODUsIC01NS4xMzMzMDA3ODEyNV0sIFstMi40MzMzMDAwMTgzMTA1NDcsIC01NS4wXSwgWy0zLjA4MzMwMDExMzY3Nzk3ODUsIC01NS4wOTk5OTg0NzQxMjEwOTRdLCBbLTMuNDUwMDAwMDQ3NjgzNzE2LCAtNTUuMjgzMjk4NDkyNDMxNjRdLCBbLTIuNjgzMzAwMDE4MzEwNTQ3LCAtNDkuNjgzMzAwMDE4MzEwNTVdLCBbLTIuMjUsIC00OS41XSwgWy0yMy40NTAwMDA3NjI5Mzk0NTMsIC00Ni43MzMyOTkyNTUzNzEwOTRdLCBbLTQuMTUwMDAwMDk1MzY3NDMyLCAtNjkuOTQ5OTk2OTQ4MjQyMTldLCBbNy4wMTY2OTk3OTA5NTQ1OSwgLTc2LjI2NjcwMDc0NDYyODldLCBbNi4yNSwgLTc1LjU4MzI5NzcyOTQ5MjE5XSwgWzguMTAwMDAwMzgxNDY5NzI3LCAtNzYuNzE2Njk3NjkyODcxMV0sIFsxMC4xNDk5OTk2MTg1MzAyNzMsIC03My40MzMyOTYyMDM2MTMyOF0sIFs1LjA5OTk5OTkwNDYzMjU2OCwgLTc2LjY4MzI5NjIwMzYxMzI4XSwgWzcuMTE2NzAwMTcyNDI0MzE2LCAtNzcuNzY2NzAwNzQ0NjI4OV0sIFs1LjY5OTk5OTgwOTI2NTEzNywgLTc2LjY2NjcwMjI3MDUwNzgxXSwgWzcuNjY2Njk5ODg2MzIyMDIxNSwgLTc3LjE2NjcwMjI3MDUwNzgxXSwgWzguMDE2Njk5NzkwOTU0NTksIC03Ny4xMTY2OTkyMTg3NV0sIFs4LjI4MzMwMDM5OTc4MDI3MywgLTc1LjY4MzI5NjIwMzYxMzI4XSwgWzkuMTE2NzAwMTcyNDI0MzE2LCAtNzQuNzMzMjk5MjU1MzcxMV0sIFs0LjU4MzMwMDExMzY3Nzk3ODUsIC03NC4zMDAwMDMwNTE3NTc4MV0sIFszLjg2NjY5OTkzNDAwNTczNzMsIC02Ny45MzMyOTYyMDM2MTMyOF0sIFsxMi4zNTAwMDAzODE0Njk3MjcsIC03MS4zMTY3MDM3OTYzODY3Ml0sIFs0LjE1MDAwMDA5NTM2NzQzMiwgLTczLjYxNjY5OTIxODc1XSwgWzEuNjgzMzAwMDE4MzEwNTQ2OSwgLTc4LjE1MDAwMTUyNTg3ODldLCBbNy45MDAwMDAwOTUzNjc0MzIsIC03Mi41MTY3MDA3NDQ2Mjg5XSwgWy0wLjIwMDAwMDAwMjk4MDIzMjI0LCAtNzQuNzY2NzAwNzQ0NjI4OV0sIFswLjQ2NjY5OTk4NzY0OTkxNzYsIC03NS4zMzMyOTc3Mjk0OTIxOV0sIFs3LjE2NjY5OTg4NjMyMjAyMTUsIC03My45MTY3MDIyNzA1MDc4MV0sIFs5LjMwMDAwMDE5MDczNDg2MywgLTc1LjQwMDAwMTUyNTg3ODldLCBbOS41LCAtNzUuMzQ5OTk4NDc0MTIxMV0sIFs0LjAsIC03Ni45MzMyOTYyMDM2MTMyOF0sIFszLjY4MzMwMDAxODMxMDU0NywgLTc3LjA4MzI5NzcyOTQ5MjE5XSwgWzguOTQ5OTk5ODA5MjY1MTM3LCAtODMuNDY2Njk3NjkyODcxMV0sIFstMy43MTY3MDAwNzcwNTY4ODQ4LCAtNzkuNjUwMDAxNTI1ODc4OV0sIFstMC42OTk5OTk5ODgwNzkwNzEsIC03Ny4xMzMzMDA3ODEyNV0sIFstMS40ODMyOTk5NzA2MjY4MzEsIC03Ny45NDk5OTY5NDgyNDIxOV0sIFstMC4yNSwgLTc5LjE1MDAwMTUyNTg3ODldLCBbMTMuMTgzMzAwMDE4MzEwNTQ3LCAtODUuOTMzMjk2MjAzNjEzMjhdLCBbMTAuOTMzMzAwMDE4MzEwNTQ3LCAtODMuNjk5OTk2OTQ4MjQyMTldLCBbMTMuOTQ5OTk5ODA5MjY1MTM3LCAtODQuNTMzMzAyMzA3MTI4OV0sIFsxMi4xNDk5OTk2MTg1MzAyNzMsIC04NC40MzMyOTYyMDM2MTMyOF0sIFsxMi4xNDk5OTk2MTg1MzAyNzMsIC04My43NjY3MDA3NDQ2Mjg5XSwgWzkuMzAwMDAwMTkwNzM0ODYzLCAtODIuNDAwMDAxNTI1ODc4OV0sIFs5LjQ0OTk5OTgwOTI2NTEzNywgLTgyLjUxNjcwMDc0NDYyODldLCBbOC45MzMzMDAwMTgzMTA1NDcsIC04MS44MDAwMDMwNTE3NTc4MV0sIFs5LjYwMDAwMDM4MTQ2OTcyNywgLTgyLjc4MzMwMjMwNzEyODldLCBbOS4xODMzMDAwMTgzMTA1NDcsIC04Mi4yNV0sIFs5LjE2NjcwMDM2MzE1OTE4LCAtNzkuODE2NzAzNzk2Mzg2NzJdLCBbOS4yNSwgLTc5LjkzMzI5NjIwMzYxMzI4XSwgWzkuMjUsIC03OS45ODMyOTkyNTUzNzExXSwgWzkuMjgzMzAwMzk5NzgwMjczLCAtNzkuNTk5OTk4NDc0MTIxMV0sIFs4LjAsIC03Ny41OTk5OTg0NzQxMjExXSwgWzguMTMzMjk5ODI3NTc1Njg0LCAtNzcuNzMzMjk5MjU1MzcxMV0sIFs3Ljk2NjcwMDA3NzA1Njg4NSwgLTc4LjM2NjY5OTIxODc1XSwgWzcuOTgzMzAwMjA5MDQ1NDEsIC03Ny40MzMyOTYyMDM2MTMyOF0sIFs4Ljk0OTk5OTgwOTI2NTEzNywgLTc5LjU4MzI5NzcyOTQ5MjE5XSwgWzkuMjMzMzAwMjA5MDQ1NDEsIC03OS4zNDk5OTg0NzQxMjExXSwgWzguODk5OTk5NjE4NTMwMjczLCAtNzkuNTk5OTk4NDc0MTIxMV0sIFstNC44MzMzMDAxMTM2Nzc5Nzg1LCAtNzQuMjE2Njk3NjkyODcxMV0sIFstMy4zMTY2OTk5ODE2ODk0NTMsIC03Mi4wOTk5OTg0NzQxMjExXSwgWy0zLjQ2NjcwMDA3NzA1Njg4NDgsIC03My4wNTAwMDMwNTE3NTc4MV0sIFstNi43MzMzMDAyMDkwNDU0MSwgLTc1LjA5OTk5ODQ3NDEyMTFdLCBbLTUuODMzMzAwMTEzNjc3OTc4NSwgLTc2LjA1MDAwMzA1MTc1NzgxXSwgWy04LjM4MzI5OTgyNzU3NTY4NCwgLTc0LjUzMzMwMjMwNzEyODldLCBbNS4zMDAwMDAxOTA3MzQ4NjMsIC02Ni4yMTY2OTc2OTI4NzExXSwgWzEwLjM2NjcwMDE3MjQyNDMxNiwgLTY3LjY4MzI5NjIwMzYxMzI4XSwgWzEwLjM2NjcwMDE3MjQyNDMxNiwgLTY2LjgzMzI5NzcyOTQ5MjE5XSwgWy0xMC4zODMyOTk4Mjc1NzU2ODQsIC02NS40MDAwMDE1MjU4Nzg5XSwgWy0xMC4zODMyOTk4Mjc1NzU2ODQsIC02NS4zODMzMDA3ODEyNV0sIFstMTcuNDUwMDAwNzYyOTM5NDUzLCAtNjMuNjY2Njk4NDU1ODEwNTVdLCBbLTE2LjAsIC02NC40MTY3MDIyNzA1MDc4MV0sIFstMTcuNzk5OTk5MjM3MDYwNTQ3LCAtNjMuMTY2Njk4NDU1ODEwNTVdLCBbLTMuNzAwMDAwMDQ3NjgzNzE2LCAtNTkuMTMzMzAwNzgxMjVdLCBbLTMuMTMzMzAwMDY1OTk0MjYyNywgLTYwLjA4MzMwMTU0NDE4OTQ1XSwgWy0wLjUxNjcwMDAyOTM3MzE2OSwgLTY0LjgzMzI5NzcyOTQ5MjE5XSwgWy0zLjgzMzMwMDExMzY3Nzk3ODUsIC02Mi4wODMzMDE1NDQxODk0NV0sIFstMy44MzMzMDAxMTM2Nzc5Nzg1LCAtNTIuNjY2Njk4NDU1ODEwNTVdLCBbLTIuNzUsIC01NC45ODMyOTkyNTUzNzEwOTRdLCBbLTIuNDMzMzAwMDE4MzEwNTQ3LCAtNTUuMF0sIFstMi40MzMzMDAwMTgzMTA1NDcsIC01NC43MDAwMDA3NjI5Mzk0NV0sIFstMy4wODMzMDAxMTM2Nzc5Nzg1LCAtNTUuMDk5OTk4NDc0MTIxMDk0XSwgWy0zLjQ1MDAwMDA0NzY4MzcxNiwgLTU1LjI4MzI5ODQ5MjQzMTY0XSwgWy0yLjI1LCAtNDkuNV0sIFstMi41ODMzMDAxMTM2Nzc5Nzg1LCAtNDkuNV0sIFstMjMuNDUwMDAwNzYyOTM5NDUzLCAtNDYuNzMzMjk5MjU1MzcxMDk0XSwgWy00LjE1MDAwMDA5NTM2NzQzMiwgLTY5Ljk0OTk5Njk0ODI0MjE5XSwgWzcuMzQ5OTk5OTA0NjMyNTY4LCAtNzUuMDUwMDAzMDUxNzU3ODFdLCBbMTAuMzAwMDAwMTkwNzM0ODYzLCAtNzQuMF0sIFs1LjA5OTk5OTkwNDYzMjU2OCwgLTc2LjY4MzI5NjIwMzYxMzI4XSwgWzUuNjk5OTk5ODA5MjY1MTM3LCAtNzYuNjY2NzAyMjcwNTA3ODFdLCBbNy42NjY2OTk4ODYzMjIwMjE1LCAtNzcuMTY2NzAyMjcwNTA3ODFdLCBbOC4wMTY2OTk3OTA5NTQ1OSwgLTc3LjExNjY5OTIxODc1XSwgWzguMjgzMzAwMzk5NzgwMjczLCAtNzUuNjgzMjk2MjAzNjEzMjhdLCBbOS4xMTY3MDAxNzI0MjQzMTYsIC03NC43MzMyOTkyNTUzNzExXSwgWzcuODQ5OTk5OTA0NjMyNTY4LCAtNzYuMjgzMzAyMzA3MTI4OV0sIFs0LjU4MzMwMDExMzY3Nzk3ODUsIC03NC4zMDAwMDMwNTE3NTc4MV0sIFszLjg2NjY5OTkzNDAwNTczNzMsIC02Ny45MzMyOTYyMDM2MTMyOF0sIFs0LjE1MDAwMDA5NTM2NzQzMiwgLTczLjYxNjY5OTIxODc1XSwgWzEuNjgzMzAwMDE4MzEwNTQ2OSwgLTc4LjE1MDAwMTUyNTg3ODldLCBbNy45MDAwMDAwOTUzNjc0MzIsIC03Mi41MTY3MDA3NDQ2Mjg5XSwgWzcuMTY2Njk5ODg2MzIyMDIxNSwgLTczLjkxNjcwMjI3MDUwNzgxXSwgWzkuMzAwMDAwMTkwNzM0ODYzLCAtNzUuNDAwMDAxNTI1ODc4OV0sIFs0LjAsIC03Ni45MzMyOTYyMDM2MTMyOF0sIFsxMC4zMzMyOTk2MzY4NDA4MiwgLTg0LjVdLCBbOS44ODMyOTk4Mjc1NzU2ODQsIC04My42MzMzMDA3ODEyNV0sIFsxMC42MzMyOTk4Mjc1NzU2ODQsIC04NC4wMTY3MDA3NDQ2Mjg5XSwgWzkuOTE2NzAwMzYzMTU5MTgsIC04My41NjY3MDM3OTYzODY3Ml0sIFstMy43MTY3MDAwNzcwNTY4ODQ4LCAtNzkuNjUwMDAxNTI1ODc4OV0sIFswLjMzMzI5OTk5NDQ2ODY4ODk2LCAtNzkuNDY2Njk3NjkyODcxMV0sIFstMS41MzMzMDAwNDIxNTI0MDQ4LCAtNzkuNzVdLCBbLTAuNDY2Njk5OTg3NjQ5OTE3NiwgLTc5LjU5OTk5ODQ3NDEyMTFdLCBbLTAuNjk5OTk5OTg4MDc5MDcxLCAtNzcuMTMzMzAwNzgxMjVdLCBbLTEuNDgzMjk5OTcwNjI2ODMxLCAtNzcuOTQ5OTk2OTQ4MjQyMTldLCBbLTAuMjUsIC03OS4xNTAwMDE1MjU4Nzg5XSwgWzEzLjk0OTk5OTgwOTI2NTEzNywgLTg0LjUzMzMwMjMwNzEyODldLCBbMTIuMTQ5OTk5NjE4NTMwMjczLCAtODQuNDMzMjk2MjAzNjEzMjhdLCBbOS4zMDAwMDAxOTA3MzQ4NjMsIC04Mi40MDAwMDE1MjU4Nzg5XSwgWzkuNDQ5OTk5ODA5MjY1MTM3LCAtODIuNTE2NzAwNzQ0NjI4OV0sIFs4LjkzMzMwMDAxODMxMDU0NywgLTgxLjgwMDAwMzA1MTc1NzgxXSwgWzkuNjAwMDAwMzgxNDY5NzI3LCAtODIuNzgzMzAyMzA3MTI4OV0sIFs5LjE4MzMwMDAxODMxMDU0NywgLTgyLjI1XSwgWzkuMTY2NzAwMzYzMTU5MTgsIC03OS44MTY3MDM3OTYzODY3Ml0sIFs5LjI1LCAtNzkuOTMzMjk2MjAzNjEzMjhdLCBbOS4yNSwgLTc5Ljk4MzI5OTI1NTM3MTFdLCBbOS4yMTY2OTk2MDAyMTk3MjcsIC03OS45MDAwMDE1MjU4Nzg5XSwgWzkuMjgzMzAwMzk5NzgwMjczLCAtNzkuNTk5OTk4NDc0MTIxMV0sIFs4LjE2NjcwMDM2MzE1OTE4LCAtNzcuMzAwMDAzMDUxNzU3ODFdLCBbOC4wLCAtNzcuNTk5OTk4NDc0MTIxMV0sIFs4LjEwMDAwMDM4MTQ2OTcyNywgLTc3Ljc1XSwgWzguMTMzMjk5ODI3NTc1Njg0LCAtNzcuNzMzMjk5MjU1MzcxMV0sIFs4Ljk0OTk5OTgwOTI2NTEzNywgLTc5LjU4MzI5NzcyOTQ5MjE5XSwgWzkuMTQ5OTk5NjE4NTMwMjczLCAtNzkuODQ5OTk4NDc0MTIxMV0sIFs5LjIzMzMwMDIwOTA0NTQxLCAtNzkuMzQ5OTk4NDc0MTIxMV0sIFs4Ljg2NjcwMDE3MjQyNDMxNiwgLTc5LjgwMDAwMzA1MTc1NzgxXSwgWy00LjY1MDAwMDA5NTM2NzQzMiwgLTc3LjExNjY5OTIxODc1XSwgWy0yLjM2NjY5OTkzNDAwNTczNzMsIC03NC4wODMyOTc3Mjk0OTIxOV0sIFstMy43NjY3MDAwMjkzNzMxNjksIC03My4yNV0sIFstNC44MzMzMDAxMTM2Nzc5Nzg1LCAtNzQuMjE2Njk3NjkyODcxMV0sIFstMy40NjY3MDAwNzcwNTY4ODQ4LCAtNzMuMDUwMDAzMDUxNzU3ODFdLCBbLTQuNjk5OTk5ODA5MjY1MTM3LCAtNzQuMjE2Njk3NjkyODcxMV0sIFstNS44MzMzMDAxMTM2Nzc5Nzg1LCAtNzYuMDUwMDAzMDUxNzU3ODFdLCBbLTguMzgzMjk5ODI3NTc1Njg0LCAtNzQuNTMzMzAyMzA3MTI4OV0sIFszLjE2NjY5OTg4NjMyMjAyMTUsIC02NS41NTAwMDMwNTE3NTc4MV0sIFszLjA4MzMwMDExMzY3Nzk3ODUsIC02NS45MTY3MDIyNzA1MDc4MV0sIFs1LjMwMDAwMDE5MDczNDg2MywgLTY2LjIxNjY5NzY5Mjg3MTFdLCBbMTAuMzY2NzAwMTcyNDI0MzE2LCAtNjcuNjgzMjk2MjAzNjEzMjhdLCBbMTAuNTMzMzAwMzk5NzgwMjczLCAtNjguMzgzMzAwNzgxMjVdLCBbOS4xNDk5OTk2MTg1MzAyNzMsIC03Mi41OTk5OTg0NzQxMjExXSwgWy0xMC4zODMyOTk4Mjc1NzU2ODQsIC02NS40MDAwMDE1MjU4Nzg5XSwgWy0xNy40NTAwMDA3NjI5Mzk0NTMsIC02My42NjY2OTg0NTU4MTA1NV0sIFstMTcuMzk5OTk5NjE4NTMwMjczLCAtNjMuODQ5OTk4NDc0MTIxMDk0XSwgWy0xNi4wLCAtNjQuNDE2NzAyMjcwNTA3ODFdLCBbLTE3Ljc5OTk5OTIzNzA2MDU0NywgLTYzLjE2NjY5ODQ1NTgxMDU1XSwgWy0yLjU5OTk5OTkwNDYzMjU2ODQsIC01Ni43MzMyOTkyNTUzNzEwOTRdLCBbLTMuMTMzMzAwMDY1OTk0MjYyNywgLTYwLjA4MzMwMTU0NDE4OTQ1XSwgWy0wLjUxNjcwMDAyOTM3MzE2OSwgLTY0LjgzMzI5NzcyOTQ5MjE5XSwgWy0zLjEzMzMwMDA2NTk5NDI2MjcsIC02MC4wMTY3MDA3NDQ2Mjg5MDZdLCBbLTE5LjMzMzI5OTYzNjg0MDgyLCAtNDAuMDY2Njk5OTgxNjg5NDVdLCBbLTMuODMzMzAwMTEzNjc3OTc4NSwgLTUyLjY2NjY5ODQ1NTgxMDU1XSwgWy0xLjAsIC00OS41XSwgWy0xLjcwMDAwMDA0NzY4MzcxNTgsIC01Mi4yMDAwMDA3NjI5Mzk0NV0sIFstMi43NSwgLTU0Ljk4MzI5OTI1NTM3MTA5NF0sIFstMi44MzMzMDAxMTM2Nzc5Nzg1LCAtNTUuMTMzMzAwNzgxMjVdLCBbLTIuNDMzMzAwMDE4MzEwNTQ3LCAtNTQuNzAwMDAwNzYyOTM5NDVdLCBbLTMuNDUwMDAwMDQ3NjgzNzE2LCAtNTUuMjgzMjk4NDkyNDMxNjRdLCBbLTIuMjUsIC00OS41XSwgWy0yLjU4MzMwMDExMzY3Nzk3ODUsIC00OS41XSwgWy0yMy40NTAwMDA3NjI5Mzk0NTMsIC00Ni43MzMyOTkyNTUzNzEwOTRdLCBbNy4wMTY2OTk3OTA5NTQ1OSwgLTc2LjI2NjcwMDc0NDYyODldLCBbNi4yNSwgLTc1LjU4MzI5NzcyOTQ5MjE5XSwgWzguMTAwMDAwMzgxNDY5NzI3LCAtNzYuNzE2Njk3NjkyODcxMV0sIFs5Ljk2NjY5OTYwMDIxOTcyNywgLTc1LjA2NjcwMzc5NjM4NjcyXSwgWzUuMDk5OTk5OTA0NjMyNTY4LCAtNzYuNjgzMjk2MjAzNjEzMjhdLCBbNy4xMTY3MDAxNzI0MjQzMTYsIC03Ny43NjY3MDA3NDQ2Mjg5XSwgWzcuNjY2Njk5ODg2MzIyMDIxNSwgLTc3LjE2NjcwMjI3MDUwNzgxXSwgWzguMDE2Njk5NzkwOTU0NTksIC03Ny4xMTY2OTkyMTg3NV0sIFs5LjExNjcwMDE3MjQyNDMxNiwgLTc0LjczMzI5OTI1NTM3MTFdLCBbNy44NDk5OTk5MDQ2MzI1NjgsIC03Ni4yODMzMDIzMDcxMjg5XSwgWzQuNTgzMzAwMTEzNjc3OTc4NSwgLTc0LjMwMDAwMzA1MTc1NzgxXSwgWzEyLjM1MDAwMDM4MTQ2OTcyNywgLTcxLjMxNjcwMzc5NjM4NjcyXSwgWzQuMTUwMDAwMDk1MzY3NDMyLCAtNzMuNjE2Njk5MjE4NzVdLCBbMS42ODMzMDAwMTgzMTA1NDY5LCAtNzguMTUwMDAxNTI1ODc4OV0sIFs4LjUsIC03Mi41ODMyOTc3Mjk0OTIxOV0sIFstMC4yMDAwMDAwMDI5ODAyMzIyNCwgLTc0Ljc2NjcwMDc0NDYyODldLCBbMC40NjY2OTk5ODc2NDk5MTc2LCAtNzUuMzMzMjk3NzI5NDkyMTldLCBbOS4zMDAwMDAxOTA3MzQ4NjMsIC03NS40MDAwMDE1MjU4Nzg5XSwgWzQuMCwgLTc2LjkzMzI5NjIwMzYxMzI4XSwgWzMuNjgzMzAwMDE4MzEwNTQ3LCAtNzcuMDgzMjk3NzI5NDkyMTldLCBbMTAuMzMzMjk5NjM2ODQwODIsIC04NC41XSwgWzkuODgzMjk5ODI3NTc1Njg0LCAtODMuNjMzMzAwNzgxMjVdLCBbMTAuNjMzMjk5ODI3NTc1Njg0LCAtODQuMDE2NzAwNzQ0NjI4OV0sIFstMy43MTY3MDAwNzcwNTY4ODQ4LCAtNzkuNjUwMDAxNTI1ODc4OV0sIFstMS41MzMzMDAwNDIxNTI0MDQ4LCAtNzkuNzVdLCBbLTAuNDY2Njk5OTg3NjQ5OTE3NiwgLTc5LjU5OTk5ODQ3NDEyMTFdLCBbLTAuNjk5OTk5OTg4MDc5MDcxLCAtNzcuMTMzMzAwNzgxMjVdLCBbLTEuNDgzMjk5OTcwNjI2ODMxLCAtNzcuOTQ5OTk2OTQ4MjQyMTldLCBbLTAuMjUsIC03OS4xNTAwMDE1MjU4Nzg5XSwgWzEwLjkzMzMwMDAxODMxMDU0NywgLTgzLjY5OTk5Njk0ODI0MjE5XSwgWzEzLjk0OTk5OTgwOTI2NTEzNywgLTg0LjUzMzMwMjMwNzEyODldLCBbMTIuMTQ5OTk5NjE4NTMwMjczLCAtODQuNDMzMjk2MjAzNjEzMjhdLCBbMTIuMTQ5OTk5NjE4NTMwMjczLCAtODMuNzY2NzAwNzQ0NjI4OV0sIFs5LjQ0OTk5OTgwOTI2NTEzNywgLTgyLjUxNjcwMDc0NDYyODldLCBbOC45MzMzMDAwMTgzMTA1NDcsIC04MS44MDAwMDMwNTE3NTc4MV0sIFs5LjYwMDAwMDM4MTQ2OTcyNywgLTgyLjc4MzMwMjMwNzEyODldLCBbOS4xODMzMDAwMTgzMTA1NDcsIC04Mi4yNV0sIFs5LjE2NjcwMDM2MzE1OTE4LCAtNzkuODE2NzAzNzk2Mzg2NzJdLCBbOS4yNSwgLTc5LjkzMzI5NjIwMzYxMzI4XSwgWzguMTY2NzAwMzYzMTU5MTgsIC03Ny4zMDAwMDMwNTE3NTc4MV0sIFs4LjEwMDAwMDM4MTQ2OTcyNywgLTc3Ljc1XSwgWzguMTMzMjk5ODI3NTc1Njg0LCAtNzcuNzMzMjk5MjU1MzcxMV0sIFs3Ljk4MzMwMDIwOTA0NTQxLCAtNzcuNDMzMjk2MjAzNjEzMjhdLCBbOC45NDk5OTk4MDkyNjUxMzcsIC03OS41ODMyOTc3Mjk0OTIxOV0sIFs5LjE0OTk5OTYxODUzMDI3MywgLTc5Ljg0OTk5ODQ3NDEyMTFdLCBbOC44NjY3MDAxNzI0MjQzMTYsIC03OS44MDAwMDMwNTE3NTc4MV0sIFs4Ljg5OTk5OTYxODUzMDI3MywgLTc5LjU5OTk5ODQ3NDEyMTFdLCBbLTQuNjUwMDAwMDk1MzY3NDMyLCAtNzcuMTE2Njk5MjE4NzVdLCBbLTIuMzY2Njk5OTM0MDA1NzM3MywgLTc0LjA4MzI5NzcyOTQ5MjE5XSwgWy0zLjc2NjcwMDAyOTM3MzE2OSwgLTczLjI1XSwgWy0zLjMxNjY5OTk4MTY4OTQ1MywgLTcyLjA5OTk5ODQ3NDEyMTFdLCBbLTMuNDMzMzAwMDE4MzEwNTQ3LCAtNzIuMTMzMzAwNzgxMjVdLCBbLTMuNDY2NzAwMDc3MDU2ODg0OCwgLTczLjA1MDAwMzA1MTc1NzgxXSwgWy00LjY5OTk5OTgwOTI2NTEzNywgLTc0LjIxNjY5NzY5Mjg3MTFdLCBbLTYuNzMzMzAwMjA5MDQ1NDEsIC03NS4wOTk5OTg0NzQxMjExXSwgWy01LjgzMzMwMDExMzY3Nzk3ODUsIC03Ni4wNTAwMDMwNTE3NTc4MV0sIFstOC4zODMyOTk4Mjc1NzU2ODQsIC03NC41MzMzMDIzMDcxMjg5XSwgWzMuMTY2Njk5ODg2MzIyMDIxNSwgLTY1LjU1MDAwMzA1MTc1NzgxXSwgWzUuMzAwMDAwMTkwNzM0ODYzLCAtNjYuMjE2Njk3NjkyODcxMV0sIFsxMC4zNjY3MDAxNzI0MjQzMTYsIC02Ny42ODMyOTYyMDM2MTMyOF0sIFsxMC41MzMzMDAzOTk3ODAyNzMsIC02OC4zODMzMDA3ODEyNV0sIFstMTAuMzgzMjk5ODI3NTc1Njg0LCAtNjUuNDAwMDAxNTI1ODc4OV0sIFstMTAuMzgzMjk5ODI3NTc1Njg0LCAtNjUuMzgzMzAwNzgxMjVdLCBbLTE2Ljc5OTk5OTIzNzA2MDU0NywgLTY1LjEzMzMwMDc4MTI1XSwgWy0xNy40NTAwMDA3NjI5Mzk0NTMsIC02My42NjY2OTg0NTU4MTA1NV0sIFstMTcuNzk5OTk5MjM3MDYwNTQ3LCAtNjMuMTY2Njk4NDU1ODEwNTVdLCBbLTIuNTk5OTk5OTA0NjMyNTY4NCwgLTU2LjczMzI5OTI1NTM3MTA5NF0sIFstMy43MDAwMDAwNDc2ODM3MTYsIC01OS4xMzMzMDA3ODEyNV0sIFstMC41MTY3MDAwMjkzNzMxNjksIC02NC44MzMyOTc3Mjk0OTIxOV0sIFstMy4xMzMzMDAwNjU5OTQyNjI3LCAtNjAuMDE2NzAwNzQ0NjI4OTA2XSwgWy0zLjgzMzMwMDExMzY3Nzk3ODUsIC01Mi42NjY2OTg0NTU4MTA1NV0sIFstMS4wLCAtNDkuNV0sIFstMS45MTY3MDAwMDU1MzEzMTEsIC01NS41NDk5OTkyMzcwNjA1NV0sIFstMS43MDAwMDAwNDc2ODM3MTU4LCAtNTIuMjAwMDAwNzYyOTM5NDVdLCBbLTIuNzUsIC01NC45ODMyOTkyNTUzNzEwOTRdLCBbLTIuODMzMzAwMTEzNjc3OTc4NSwgLTU1LjEzMzMwMDc4MTI1XSwgWy0yLjQzMzMwMDAxODMxMDU0NywgLTU0LjcwMDAwMDc2MjkzOTQ1XSwgWy0zLjA4MzMwMDExMzY3Nzk3ODUsIC01NS4wOTk5OTg0NzQxMjEwOTRdLCBbLTIuNjgzMzAwMDE4MzEwNTQ3LCAtNDkuNjgzMzAwMDE4MzEwNTVdLCBbLTIuMjUsIC00OS41XSwgWy0yLjU4MzMwMDExMzY3Nzk3ODUsIC00OS41XSwgWy0yMy40NTAwMDA3NjI5Mzk0NTMsIC00Ni43MzMyOTkyNTUzNzEwOTRdLCBbOC4xMDAwMDAzODE0Njk3MjcsIC03Ni43MTY2OTc2OTI4NzExXSwgWzcuMzQ5OTk5OTA0NjMyNTY4LCAtNzUuMDUwMDAzMDUxNzU3ODFdLCBbOS45NjY2OTk2MDAyMTk3MjcsIC03NS4wNjY3MDM3OTYzODY3Ml0sIFsxMC4zMDAwMDAxOTA3MzQ4NjMsIC03NC4wXSwgWzEwLjE0OTk5OTYxODUzMDI3MywgLTczLjQzMzI5NjIwMzYxMzI4XSwgWzcuMTE2NzAwMTcyNDI0MzE2LCAtNzcuNzY2NzAwNzQ0NjI4OV0sIFs1LjY5OTk5OTgwOTI2NTEzNywgLTc2LjY2NjcwMjI3MDUwNzgxXSwgWzUuMDUwMDAwMTkwNzM0ODYzLCAtNzYuOTQ5OTk2OTQ4MjQyMTldLCBbOC4wMTY2OTk3OTA5NTQ1OSwgLTc3LjExNjY5OTIxODc1XSwgWzcuODQ5OTk5OTA0NjMyNTY4LCAtNzYuMjgzMzAyMzA3MTI4OV0sIFszLjg2NjY5OTkzNDAwNTczNzMsIC02Ny45MzMyOTYyMDM2MTMyOF0sIFs0LjE1MDAwMDA5NTM2NzQzMiwgLTczLjYxNjY5OTIxODc1XSwgWzEuNjgzMzAwMDE4MzEwNTQ2OSwgLTc4LjE1MDAwMTUyNTg3ODldLCBbOC41LCAtNzIuNTgzMjk3NzI5NDkyMTldLCBbNy45MDAwMDAwOTUzNjc0MzIsIC03Mi41MTY3MDA3NDQ2Mjg5XSwgWy0wLjIwMDAwMDAwMjk4MDIzMjI0LCAtNzQuNzY2NzAwNzQ0NjI4OV0sIFs3LjE2NjY5OTg4NjMyMjAyMTUsIC03My45MTY3MDIyNzA1MDc4MV0sIFs5LjMwMDAwMDE5MDczNDg2MywgLTc1LjQwMDAwMTUyNTg3ODldLCBbOS41LCAtNzUuMzQ5OTk4NDc0MTIxMV0sIFs0LjAsIC03Ni45MzMyOTYyMDM2MTMyOF0sIFszLjY4MzMwMDAxODMxMDU0NywgLTc3LjA4MzI5NzcyOTQ5MjE5XSwgWzkuODgzMjk5ODI3NTc1Njg0LCAtODMuNjMzMzAwNzgxMjVdLCBbMTAuNjMzMjk5ODI3NTc1Njg0LCAtODQuMDE2NzAwNzQ0NjI4OV0sIFs4Ljk0OTk5OTgwOTI2NTEzNywgLTgzLjQ2NjY5NzY5Mjg3MTFdLCBbLTMuNzE2NzAwMDc3MDU2ODg0OCwgLTc5LjY1MDAwMTUyNTg3ODldLCBbMC4zMzMyOTk5OTQ0Njg2ODg5NiwgLTc5LjQ2NjY5NzY5Mjg3MTFdLCBbLTAuNDY2Njk5OTg3NjQ5OTE3NiwgLTc5LjU5OTk5ODQ3NDEyMTFdLCBbLTEuNDgzMjk5OTcwNjI2ODMxLCAtNzcuOTQ5OTk2OTQ4MjQyMTldLCBbLTAuMjUsIC03OS4xNTAwMDE1MjU4Nzg5XSwgWzEzLjE4MzMwMDAxODMxMDU0NywgLTg1LjkzMzI5NjIwMzYxMzI4XSwgWzEwLjkzMzMwMDAxODMxMDU0NywgLTgzLjY5OTk5Njk0ODI0MjE5XSwgWzEyLjE0OTk5OTYxODUzMDI3MywgLTg0LjQzMzI5NjIwMzYxMzI4XSwgWzEyLjE0OTk5OTYxODUzMDI3MywgLTgzLjc2NjcwMDc0NDYyODldLCBbOS4zMDAwMDAxOTA3MzQ4NjMsIC04Mi40MDAwMDE1MjU4Nzg5XSwgWzkuNDQ5OTk5ODA5MjY1MTM3LCAtODIuNTE2NzAwNzQ0NjI4OV0sIFs5LjIxNjY5OTYwMDIxOTcyNywgLTc5LjkwMDAwMTUyNTg3ODldLCBbOS4yODMzMDAzOTk3ODAyNzMsIC03OS41OTk5OTg0NzQxMjExXSwgWzguMTY2NzAwMzYzMTU5MTgsIC03Ny4zMDAwMDMwNTE3NTc4MV0sIFs4LjEwMDAwMDM4MTQ2OTcyNywgLTc3Ljc1XSwgWzguMTMzMjk5ODI3NTc1Njg0LCAtNzcuNzMzMjk5MjU1MzcxMV0sIFs3Ljk2NjcwMDA3NzA1Njg4NSwgLTc4LjM2NjY5OTIxODc1XSwgWzcuOTgzMzAwMjA5MDQ1NDEsIC03Ny40MzMyOTYyMDM2MTMyOF0sIFs4Ljk0OTk5OTgwOTI2NTEzNywgLTc5LjU4MzI5NzcyOTQ5MjE5XSwgWzkuMTQ5OTk5NjE4NTMwMjczLCAtNzkuODQ5OTk4NDc0MTIxMV0sIFs4Ljg2NjcwMDE3MjQyNDMxNiwgLTc5LjgwMDAwMzA1MTc1NzgxXSwgWzguODk5OTk5NjE4NTMwMjczLCAtNzkuNTk5OTk4NDc0MTIxMV0sIFstNC42NTAwMDAwOTUzNjc0MzIsIC03Ny4xMTY2OTkyMTg3NV0sIFstMi4zNjY2OTk5MzQwMDU3MzczLCAtNzQuMDgzMjk3NzI5NDkyMTldLCBbLTQuODMzMzAwMTEzNjc3OTc4NSwgLTc0LjIxNjY5NzY5Mjg3MTFdLCBbLTMuNDMzMzAwMDE4MzEwNTQ3LCAtNzIuMTMzMzAwNzgxMjVdLCBbLTMuNDY2NzAwMDc3MDU2ODg0OCwgLTczLjA1MDAwMzA1MTc1NzgxXSwgWy02LjczMzMwMDIwOTA0NTQxLCAtNzUuMDk5OTk4NDc0MTIxMV0sIFstNS44MzMzMDAxMTM2Nzc5Nzg1LCAtNzYuMDUwMDAzMDUxNzU3ODFdLCBbLTguMzgzMjk5ODI3NTc1Njg0LCAtNzQuNTMzMzAyMzA3MTI4OV0sIFszLjE2NjY5OTg4NjMyMjAyMTUsIC02NS41NTAwMDMwNTE3NTc4MV0sIFszLjA4MzMwMDExMzY3Nzk3ODUsIC02NS45MTY3MDIyNzA1MDc4MV0sIFs1LjMwMDAwMDE5MDczNDg2MywgLTY2LjIxNjY5NzY5Mjg3MTFdLCBbMTAuMzY2NzAwMTcyNDI0MzE2LCAtNjcuNjgzMjk2MjAzNjEzMjhdLCBbMTAuNTMzMzAwMzk5NzgwMjczLCAtNjguMzgzMzAwNzgxMjVdLCBbMTAuMzY2NzAwMTcyNDI0MzE2LCAtNjYuODMzMjk3NzI5NDkyMTldLCBbLTEwLjM4MzI5OTgyNzU3NTY4NCwgLTY1LjM4MzMwMDc4MTI1XSwgWy0xNy40NTAwMDA3NjI5Mzk0NTMsIC02My42NjY2OTg0NTU4MTA1NV0sIFstMTYuMCwgLTY0LjQxNjcwMjI3MDUwNzgxXSwgWy0zLjgzMzMwMDExMzY3Nzk3ODUsIC01Mi42NjY2OTg0NTU4MTA1NV0sIFstMS45MTY3MDAwMDU1MzEzMTEsIC01NS41NDk5OTkyMzcwNjA1NV0sIFstMy40NTAwMDAwNDc2ODM3MTYsIC01NS4yODMyOTg0OTI0MzE2NF0sIFstMi4yNSwgLTQ5LjVdLCBbLTIzLjQ1MDAwMDc2MjkzOTQ1MywgLTQ2LjczMzI5OTI1NTM3MTA5NF0sIFs3LjAxNjY5OTc5MDk1NDU5LCAtNzYuMjY2NzAwNzQ0NjI4OV0sIFs4LjEwMDAwMDM4MTQ2OTcyNywgLTc2LjcxNjY5NzY5Mjg3MTFdLCBbNy4zNDk5OTk5MDQ2MzI1NjgsIC03NS4wNTAwMDMwNTE3NTc4MV0sIFsxMC4zMDAwMDAxOTA3MzQ4NjMsIC03NC4wXSwgWzcuMTE2NzAwMTcyNDI0MzE2LCAtNzcuNzY2NzAwNzQ0NjI4OV0sIFs1LjY5OTk5OTgwOTI2NTEzNywgLTc2LjY2NjcwMjI3MDUwNzgxXSwgWzguMjgzMzAwMzk5NzgwMjczLCAtNzUuNjgzMjk2MjAzNjEzMjhdLCBbOS4xMTY3MDAxNzI0MjQzMTYsIC03NC43MzMyOTkyNTUzNzExXSwgWzQuNTgzMzAwMTEzNjc3OTc4NSwgLTc0LjMwMDAwMzA1MTc1NzgxXSwgWzQuMTUwMDAwMDk1MzY3NDMyLCAtNzMuNjE2Njk5MjE4NzVdLCBbNy45MDAwMDAwOTUzNjc0MzIsIC03Mi41MTY3MDA3NDQ2Mjg5XSwgWzcuMTY2Njk5ODg2MzIyMDIxNSwgLTczLjkxNjcwMjI3MDUwNzgxXSwgWzQuMCwgLTc2LjkzMzI5NjIwMzYxMzI4XSwgWzguOTQ5OTk5ODA5MjY1MTM3LCAtODMuNDY2Njk3NjkyODcxMV0sIFswLjMzMzI5OTk5NDQ2ODY4ODk2LCAtNzkuNDY2Njk3NjkyODcxMV0sIFstMS41MzMzMDAwNDIxNTI0MDQ4LCAtNzkuNzVdLCBbMTMuMTgzMzAwMDE4MzEwNTQ3LCAtODUuOTMzMjk2MjAzNjEzMjhdLCBbOC45MzMzMDAwMTgzMTA1NDcsIC04MS44MDAwMDMwNTE3NTc4MV0sIFs5LjE4MzMwMDAxODMxMDU0NywgLTgyLjI1XSwgWzkuMTY2NzAwMzYzMTU5MTgsIC03OS44MTY3MDM3OTYzODY3Ml0sIFs5LjI1LCAtNzkuOTMzMjk2MjAzNjEzMjhdLCBbOC4xNjY3MDAzNjMxNTkxOCwgLTc3LjMwMDAwMzA1MTc1NzgxXSwgWzguOTQ5OTk5ODA5MjY1MTM3LCAtNzkuNTgzMjk3NzI5NDkyMTldLCBbOS4yMzMzMDAyMDkwNDU0MSwgLTc5LjM0OTk5ODQ3NDEyMTFdLCBbOC44OTk5OTk2MTg1MzAyNzMsIC03OS41OTk5OTg0NzQxMjExXSwgWy0zLjMxNjY5OTk4MTY4OTQ1MywgLTcyLjA5OTk5ODQ3NDEyMTFdLCBbLTUuODMzMzAwMTEzNjc3OTc4NSwgLTc2LjA1MDAwMzA1MTc1NzgxXSwgWy0xMC4zODMyOTk4Mjc1NzU2ODQsIC02NS40MDAwMDE1MjU4Nzg5XSwgWy0xNi43OTk5OTkyMzcwNjA1NDcsIC02NS4xMzMzMDA3ODEyNV0sIFstMC41MTY3MDAwMjkzNzMxNjksIC02NC44MzMyOTc3Mjk0OTIxOV0sIFstMy4xMzMzMDAwNjU5OTQyNjI3LCAtNjAuMDE2NzAwNzQ0NjI4OTA2XSwgWy0xLjkxNjcwMDAwNTUzMTMxMSwgLTU1LjU0OTk5OTIzNzA2MDU1XSwgWy0zLjY2NjY5OTg4NjMyMjAyMTUsIC01NS41XSwgWy0yLjgzMzMwMDExMzY3Nzk3ODUsIC01NS4xMzMzMDA3ODEyNV0sIFstMi40MzMzMDAwMTgzMTA1NDcsIC01NS4wXSwgWy0yLjQzMzMwMDAxODMxMDU0NywgLTU0LjcwMDAwMDc2MjkzOTQ1XSwgWy0zLjQ1MDAwMDA0NzY4MzcxNiwgLTU1LjI4MzI5ODQ5MjQzMTY0XSwgWzEwLjE0OTk5OTYxODUzMDI3MywgLTczLjQzMzI5NjIwMzYxMzI4XSwgWzUuMDk5OTk5OTA0NjMyNTY4LCAtNzYuNjgzMjk2MjAzNjEzMjhdLCBbNS42OTk5OTk4MDkyNjUxMzcsIC03Ni42NjY3MDIyNzA1MDc4MV0sIFs5LjExNjcwMDE3MjQyNDMxNiwgLTc0LjczMzI5OTI1NTM3MTFdLCBbMTIuMzUwMDAwMzgxNDY5NzI3LCAtNzEuMzE2NzAzNzk2Mzg2NzJdLCBbOC41LCAtNzIuNTgzMjk3NzI5NDkyMTldLCBbNC4wLCAtNzYuOTMzMjk2MjAzNjEzMjhdLCBbLTMuNzE2NzAwMDc3MDU2ODg0OCwgLTc5LjY1MDAwMTUyNTg3ODldLCBbMC4zMzMyOTk5OTQ0Njg2ODg5NiwgLTc5LjQ2NjY5NzY5Mjg3MTFdLCBbLTEuNTMzMzAwMDQyMTUyNDA0OCwgLTc5Ljc1XSwgWy0wLjQ2NjY5OTk4NzY0OTkxNzYsIC03OS41OTk5OTg0NzQxMjExXSwgWzEwLjkzMzMwMDAxODMxMDU0NywgLTgzLjY5OTk5Njk0ODI0MjE5XSwgWzEyLjE0OTk5OTYxODUzMDI3MywgLTgzLjc2NjcwMDc0NDYyODldLCBbOS40NDk5OTk4MDkyNjUxMzcsIC04Mi41MTY3MDA3NDQ2Mjg5XSwgWzguOTMzMzAwMDE4MzEwNTQ3LCAtODEuODAwMDAzMDUxNzU3ODFdLCBbOS42MDAwMDAzODE0Njk3MjcsIC04Mi43ODMzMDIzMDcxMjg5XSwgWzkuMTgzMzAwMDE4MzEwNTQ3LCAtODIuMjVdLCBbOS4yNSwgLTc5Ljk4MzI5OTI1NTM3MTFdLCBbOC4xMzMyOTk4Mjc1NzU2ODQsIC03Ny43MzMyOTkyNTUzNzExXSwgWzguOTQ5OTk5ODA5MjY1MTM3LCAtNzkuNTgzMjk3NzI5NDkyMTldLCBbLTQuODMzMzAwMTEzNjc3OTc4NSwgLTc0LjIxNjY5NzY5Mjg3MTFdLCBbMy4xNjY2OTk4ODYzMjIwMjE1LCAtNjUuNTUwMDAzMDUxNzU3ODFdLCBbMTAuMzY2NzAwMTcyNDI0MzE2LCAtNjcuNjgzMjk2MjAzNjEzMjhdLCBbMTAuNTMzMzAwMzk5NzgwMjczLCAtNjguMzgzMzAwNzgxMjVdLCBbOS4xNDk5OTk2MTg1MzAyNzMsIC03Mi41OTk5OTg0NzQxMjExXSwgWy0xMC4zODMyOTk4Mjc1NzU2ODQsIC02NS4zODMzMDA3ODEyNV0sIFstMTcuMzk5OTk5NjE4NTMwMjczLCAtNjMuODQ5OTk4NDc0MTIxMDk0XSwgWy0wLjUxNjcwMDAyOTM3MzE2OSwgLTY0LjgzMzI5NzcyOTQ5MjE5XSwgWy0xLjkxNjcwMDAwNTUzMTMxMSwgLTU1LjU0OTk5OTIzNzA2MDU1XSwgWy0zLjY2NjY5OTg4NjMyMjAyMTUsIC01NS41XSwgWy0yLjQzMzMwMDAxODMxMDU0NywgLTU1LjBdLCBbLTIuNDMzMzAwMDE4MzEwNTQ3LCAtNTQuNzAwMDAwNzYyOTM5NDVdLCBbLTQuMTUwMDAwMDk1MzY3NDMyLCAtNjkuOTQ5OTk2OTQ4MjQyMTldLCBbNS4wOTk5OTk5MDQ2MzI1NjgsIC03Ni42ODMyOTYyMDM2MTMyOF0sIFs1LjY5OTk5OTgwOTI2NTEzNywgLTc2LjY2NjcwMjI3MDUwNzgxXSwgWzcuNjY2Njk5ODg2MzIyMDIxNSwgLTc3LjE2NjcwMjI3MDUwNzgxXSwgWzguMDE2Njk5NzkwOTU0NTksIC03Ny4xMTY2OTkyMTg3NV0sIFs4LjI4MzMwMDM5OTc4MDI3MywgLTc1LjY4MzI5NjIwMzYxMzI4XSwgWzkuMTE2NzAwMTcyNDI0MzE2LCAtNzQuNzMzMjk5MjU1MzcxMV0sIFs3Ljg0OTk5OTkwNDYzMjU2OCwgLTc2LjI4MzMwMjMwNzEyODldLCBbNC41ODMzMDAxMTM2Nzc5Nzg1LCAtNzQuMzAwMDAzMDUxNzU3ODFdLCBbMy44NjY2OTk5MzQwMDU3MzczLCAtNjcuOTMzMjk2MjAzNjEzMjhdLCBbNC4xNTAwMDAwOTUzNjc0MzIsIC03My42MTY2OTkyMTg3NV0sIFs4LjUsIC03Mi41ODMyOTc3Mjk0OTIxOV0sIFs3LjkwMDAwMDA5NTM2NzQzMiwgLTcyLjUxNjcwMDc0NDYyODldLCBbOS41LCAtNzUuMzQ5OTk4NDc0MTIxMV0sIFstMC4yNSwgLTc5LjE1MDAwMTUyNTg3ODldLCBbMTMuMTgzMzAwMDE4MzEwNTQ3LCAtODUuOTMzMjk2MjAzNjEzMjhdLCBbMTMuOTQ5OTk5ODA5MjY1MTM3LCAtODQuNTMzMzAyMzA3MTI4OV0sIFs5LjI1LCAtNzkuOTMzMjk2MjAzNjEzMjhdLCBbOS4yMTY2OTk2MDAyMTk3MjcsIC03OS45MDAwMDE1MjU4Nzg5XSwgWzkuMjgzMzAwMzk5NzgwMjczLCAtNzkuNTk5OTk4NDc0MTIxMV0sIFs4LjEwMDAwMDM4MTQ2OTcyNywgLTc3Ljc1XSwgWzguODk5OTk5NjE4NTMwMjczLCAtNzkuNTk5OTk4NDc0MTIxMV0sIFstMy4zMTY2OTk5ODE2ODk0NTMsIC03Mi4wOTk5OTg0NzQxMjExXSwgWy0zLjQzMzMwMDAxODMxMDU0NywgLTcyLjEzMzMwMDc4MTI1XSwgWy00LjY5OTk5OTgwOTI2NTEzNywgLTc0LjIxNjY5NzY5Mjg3MTFdLCBbMy4xNjY2OTk4ODYzMjIwMjE1LCAtNjUuNTUwMDAzMDUxNzU3ODFdLCBbMTAuMzY2NzAwMTcyNDI0MzE2LCAtNjcuNjgzMjk2MjAzNjEzMjhdLCBbMTAuMzY2NzAwMTcyNDI0MzE2LCAtNjYuODMzMjk3NzI5NDkyMTldLCBbLTE3LjQ1MDAwMDc2MjkzOTQ1MywgLTYzLjY2NjY5ODQ1NTgxMDU1XSwgWy0xOS4zMzMyOTk2MzY4NDA4MiwgLTQwLjA2NjY5OTk4MTY4OTQ1XSwgWy0xLjAsIC00OS41XSwgWy0yLjQzMzMwMDAxODMxMDU0NywgLTU1LjBdLCBbLTIuNDMzMzAwMDE4MzEwNTQ3LCAtNTQuNzAwMDAwNzYyOTM5NDVdLCBbLTMuNDUwMDAwMDQ3NjgzNzE2LCAtNTUuMjgzMjk4NDkyNDMxNjRdLCBbLTIuNTgzMzAwMTEzNjc3OTc4NSwgLTQ5LjVdLCBbOS45NjY2OTk2MDAyMTk3MjcsIC03NS4wNjY3MDM3OTYzODY3Ml0sIFsxMC4xNDk5OTk2MTg1MzAyNzMsIC03My40MzMyOTYyMDM2MTMyOF0sIFs1LjA1MDAwMDE5MDczNDg2MywgLTc2Ljk0OTk5Njk0ODI0MjE5XSwgWzcuNjY2Njk5ODg2MzIyMDIxNSwgLTc3LjE2NjcwMjI3MDUwNzgxXSwgWzkuMTE2NzAwMTcyNDI0MzE2LCAtNzQuNzMzMjk5MjU1MzcxMV0sIFszLjg2NjY5OTkzNDAwNTczNzMsIC02Ny45MzMyOTYyMDM2MTMyOF0sIFsxMi4zNTAwMDAzODE0Njk3MjcsIC03MS4zMTY3MDM3OTYzODY3Ml0sIFsxLjY4MzMwMDAxODMxMDU0NjksIC03OC4xNTAwMDE1MjU4Nzg5XSwgWzEwLjMzMzI5OTYzNjg0MDgyLCAtODQuNV0sIFstMC40NjY2OTk5ODc2NDk5MTc2LCAtNzkuNTk5OTk4NDc0MTIxMV0sIFsxMi4xNDk5OTk2MTg1MzAyNzMsIC04My43NjY3MDA3NDQ2Mjg5XSwgWzguOTMzMzAwMDE4MzEwNTQ3LCAtODEuODAwMDAzMDUxNzU3ODFdLCBbOS42MDAwMDAzODE0Njk3MjcsIC04Mi43ODMzMDIzMDcxMjg5XSwgWzkuMjUsIC03OS45MzMyOTYyMDM2MTMyOF0sIFs4LjAsIC03Ny41OTk5OTg0NzQxMjExXSwgWzguMTMzMjk5ODI3NTc1Njg0LCAtNzcuNzMzMjk5MjU1MzcxMV0sIFs3Ljk2NjcwMDA3NzA1Njg4NSwgLTc4LjM2NjY5OTIxODc1XSwgWzkuMTQ5OTk5NjE4NTMwMjczLCAtNzkuODQ5OTk4NDc0MTIxMV0sIFstMi4zNjY2OTk5MzQwMDU3MzczLCAtNzQuMDgzMjk3NzI5NDkyMTldLCBbLTQuODMzMzAwMTEzNjc3OTc4NSwgLTc0LjIxNjY5NzY5Mjg3MTFdLCBbLTMuNDY2NzAwMDc3MDU2ODg0OCwgLTczLjA1MDAwMzA1MTc1NzgxXSwgWy02LjczMzMwMDIwOTA0NTQxLCAtNzUuMDk5OTk4NDc0MTIxMV0sIFstOC4zODMyOTk4Mjc1NzU2ODQsIC03NC41MzMzMDIzMDcxMjg5XSwgWzMuMTY2Njk5ODg2MzIyMDIxNSwgLTY1LjU1MDAwMzA1MTc1NzgxXSwgWzMuMDgzMzAwMTEzNjc3OTc4NSwgLTY1LjkxNjcwMjI3MDUwNzgxXSwgWzUuMzAwMDAwMTkwNzM0ODYzLCAtNjYuMjE2Njk3NjkyODcxMV0sIFsxMC4zNjY3MDAxNzI0MjQzMTYsIC02Ny42ODMyOTYyMDM2MTMyOF0sIFsxMC41MzMzMDAzOTk3ODAyNzMsIC02OC4zODMzMDA3ODEyNV0sIFstMy43MDAwMDAwNDc2ODM3MTYsIC01OS4xMzMzMDA3ODEyNV0sIFstMy4xMzMzMDAwNjU5OTQyNjI3LCAtNjAuMDE2NzAwNzQ0NjI4OTA2XSwgWy0xLjkxNjcwMDAwNTUzMTMxMSwgLTU1LjU0OTk5OTIzNzA2MDU1XSwgWy0yLjQzMzMwMDAxODMxMDU0NywgLTU0LjcwMDAwMDc2MjkzOTQ1XSwgWy0zLjA4MzMwMDExMzY3Nzk3ODUsIC01NS4wOTk5OTg0NzQxMjEwOTRdLCBbLTIuNjgzMzAwMDE4MzEwNTQ3LCAtNDkuNjgzMzAwMDE4MzEwNTVdLCBbLTIzLjQ1MDAwMDc2MjkzOTQ1MywgLTQ2LjczMzI5OTI1NTM3MTA5NF0sIFs4LjEwMDAwMDM4MTQ2OTcyNywgLTc2LjcxNjY5NzY5Mjg3MTFdLCBbMTAuMzAwMDAwMTkwNzM0ODYzLCAtNzQuMF0sIFsxMC4xNDk5OTk2MTg1MzAyNzMsIC03My40MzMyOTYyMDM2MTMyOF0sIFs4LjUsIC03Mi41ODMyOTc3Mjk0OTIxOV0sIFs3LjE2NjY5OTg4NjMyMjAyMTUsIC03My45MTY3MDIyNzA1MDc4MV0sIFs0LjAsIC03Ni45MzMyOTYyMDM2MTMyOF0sIFsxMC42MzMyOTk4Mjc1NzU2ODQsIC04NC4wMTY3MDA3NDQ2Mjg5XSwgWzkuOTE2NzAwMzYzMTU5MTgsIC04My41NjY3MDM3OTYzODY3Ml0sIFs4Ljk0OTk5OTgwOTI2NTEzNywgLTgzLjQ2NjY5NzY5Mjg3MTFdLCBbMC4zMzMyOTk5OTQ0Njg2ODg5NiwgLTc5LjQ2NjY5NzY5Mjg3MTFdLCBbLTEuNDgzMjk5OTcwNjI2ODMxLCAtNzcuOTQ5OTk2OTQ4MjQyMTldLCBbMTMuMTgzMzAwMDE4MzEwNTQ3LCAtODUuOTMzMjk2MjAzNjEzMjhdLCBbMTAuOTMzMzAwMDE4MzEwNTQ3LCAtODMuNjk5OTk2OTQ4MjQyMTldLCBbMTIuMTQ5OTk5NjE4NTMwMjczLCAtODQuNDMzMjk2MjAzNjEzMjhdLCBbOC45MzMzMDAwMTgzMTA1NDcsIC04MS44MDAwMDMwNTE3NTc4MV0sIFs5LjI1LCAtNzkuOTgzMjk5MjU1MzcxMV0sIFs4LjE2NjcwMDM2MzE1OTE4LCAtNzcuMzAwMDAzMDUxNzU3ODFdLCBbOC4xMDAwMDAzODE0Njk3MjcsIC03Ny43NV0sIFs3Ljk2NjcwMDA3NzA1Njg4NSwgLTc4LjM2NjY5OTIxODc1XSwgWzkuMTQ5OTk5NjE4NTMwMjczLCAtNzkuODQ5OTk4NDc0MTIxMV0sIFstNC42NTAwMDAwOTUzNjc0MzIsIC03Ny4xMTY2OTkyMTg3NV0sIFstMy43NjY3MDAwMjkzNzMxNjksIC03My4yNV0sIFstNC42OTk5OTk4MDkyNjUxMzcsIC03NC4yMTY2OTc2OTI4NzExXSwgWzMuMDgzMzAwMTEzNjc3OTc4NSwgLTY1LjkxNjcwMjI3MDUwNzgxXSwgWzEwLjM2NjcwMDE3MjQyNDMxNiwgLTY3LjY4MzI5NjIwMzYxMzI4XSwgWzEwLjUzMzMwMDM5OTc4MDI3MywgLTY4LjM4MzMwMDc4MTI1XSwgWzEwLjM2NjcwMDE3MjQyNDMxNiwgLTY2LjgzMzI5NzcyOTQ5MjE5XSwgWzkuMTQ5OTk5NjE4NTMwMjczLCAtNzIuNTk5OTk4NDc0MTIxMV0sIFstMTcuNDUwMDAwNzYyOTM5NDUzLCAtNjMuNjY2Njk4NDU1ODEwNTVdLCBbLTE3LjM5OTk5OTYxODUzMDI3MywgLTYzLjg0OTk5ODQ3NDEyMTA5NF0sIFstMi41OTk5OTk5MDQ2MzI1Njg0LCAtNTYuNzMzMjk5MjU1MzcxMDk0XSwgWy0zLjcwMDAwMDA0NzY4MzcxNiwgLTU5LjEzMzMwMDc4MTI1XSwgWy0xOS4zMzMyOTk2MzY4NDA4MiwgLTQwLjA2NjY5OTk4MTY4OTQ1XSwgWy0zLjgzMzMwMDExMzY3Nzk3ODUsIC01Mi42NjY2OTg0NTU4MTA1NV0sIFstMS4wLCAtNDkuNV0sIFstMi40MzMzMDAwMTgzMTA1NDcsIC01NC43MDAwMDA3NjI5Mzk0NV0sIFstMi4yNSwgLTQ5LjVdLCBbLTIuNTgzMzAwMTEzNjc3OTc4NSwgLTQ5LjVdLCBbNy4wMTY2OTk3OTA5NTQ1OSwgLTc2LjI2NjcwMDc0NDYyODldLCBbNS4wOTk5OTk5MDQ2MzI1NjgsIC03Ni42ODMyOTYyMDM2MTMyOF0sIFs4LjI4MzMwMDM5OTc4MDI3MywgLTc1LjY4MzI5NjIwMzYxMzI4XSwgWzkuMTE2NzAwMTcyNDI0MzE2LCAtNzQuNzMzMjk5MjU1MzcxMV0sIFs3Ljg0OTk5OTkwNDYzMjU2OCwgLTc2LjI4MzMwMjMwNzEyODldLCBbNC4xNTAwMDAwOTUzNjc0MzIsIC03My42MTY2OTkyMTg3NV0sIFs3LjkwMDAwMDA5NTM2NzQzMiwgLTcyLjUxNjcwMDc0NDYyODldLCBbNC4wLCAtNzYuOTMzMjk2MjAzNjEzMjhdLCBbOS44ODMyOTk4Mjc1NzU2ODQsIC04My42MzMzMDA3ODEyNV0sIFsxMC42MzMyOTk4Mjc1NzU2ODQsIC04NC4wMTY3MDA3NDQ2Mjg5XSwgWzAuMzMzMjk5OTk0NDY4Njg4OTYsIC03OS40NjY2OTc2OTI4NzExXSwgWy0xLjUzMzMwMDA0MjE1MjQwNDgsIC03OS43NV0sIFstMC42OTk5OTk5ODgwNzkwNzEsIC03Ny4xMzMzMDA3ODEyNV0sIFstMS40ODMyOTk5NzA2MjY4MzEsIC03Ny45NDk5OTY5NDgyNDIxOV0sIFsxMy45NDk5OTk4MDkyNjUxMzcsIC04NC41MzMzMDIzMDcxMjg5XSwgWzkuNDQ5OTk5ODA5MjY1MTM3LCAtODIuNTE2NzAwNzQ0NjI4OV0sIFs5LjE4MzMwMDAxODMxMDU0NywgLTgyLjI1XSwgWzkuMTQ5OTk5NjE4NTMwMjczLCAtNzkuODQ5OTk4NDc0MTIxMV0sIFs5LjIzMzMwMDIwOTA0NTQxLCAtNzkuMzQ5OTk4NDc0MTIxMV0sIFs4Ljg5OTk5OTYxODUzMDI3MywgLTc5LjU5OTk5ODQ3NDEyMTFdLCBbLTIuMzY2Njk5OTM0MDA1NzM3MywgLTc0LjA4MzI5NzcyOTQ5MjE5XSwgWy0zLjc2NjcwMDAyOTM3MzE2OSwgLTczLjI1XSwgWy0zLjMxNjY5OTk4MTY4OTQ1MywgLTcyLjA5OTk5ODQ3NDEyMTFdLCBbLTMuNDY2NzAwMDc3MDU2ODg0OCwgLTczLjA1MDAwMzA1MTc1NzgxXSwgWzEwLjM2NjcwMDE3MjQyNDMxNiwgLTY2LjgzMzI5NzcyOTQ5MjE5XSwgWy0xMC4zODMyOTk4Mjc1NzU2ODQsIC02NS40MDAwMDE1MjU4Nzg5XSwgWy0xNy43OTk5OTkyMzcwNjA1NDcsIC02My4xNjY2OTg0NTU4MTA1NV0sIFstMi41OTk5OTk5MDQ2MzI1Njg0LCAtNTYuNzMzMjk5MjU1MzcxMDk0XSwgWy0wLjUxNjcwMDAyOTM3MzE2OSwgLTY0LjgzMzI5NzcyOTQ5MjE5XSwgWy0xLjAsIC00OS41XSwgWy0xLjkxNjcwMDAwNTUzMTMxMSwgLTU1LjU0OTk5OTIzNzA2MDU1XSwgWy0yLjQzMzMwMDAxODMxMDU0NywgLTU0LjcwMDAwMDc2MjkzOTQ1XSwgWy0yLjU4MzMwMDExMzY3Nzk3ODUsIC00OS41XSwgWzcuMzQ5OTk5OTA0NjMyNTY4LCAtNzUuMDUwMDAzMDUxNzU3ODFdLCBbOS45NjY2OTk2MDAyMTk3MjcsIC03NS4wNjY3MDM3OTYzODY3Ml0sIFsxMC4zMDAwMDAxOTA3MzQ4NjMsIC03NC4wXSwgWzUuMDUwMDAwMTkwNzM0ODYzLCAtNzYuOTQ5OTk2OTQ4MjQyMTldLCBbNy44NDk5OTk5MDQ2MzI1NjgsIC03Ni4yODMzMDIzMDcxMjg5XSwgWzguNSwgLTcyLjU4MzI5NzcyOTQ5MjE5XSwgWzEwLjMzMzI5OTYzNjg0MDgyLCAtODQuNV0sIFs5Ljg4MzI5OTgyNzU3NTY4NCwgLTgzLjYzMzMwMDc4MTI1XSwgWzEwLjYzMzI5OTgyNzU3NTY4NCwgLTg0LjAxNjcwMDc0NDYyODldLCBbOS45MTY3MDAzNjMxNTkxOCwgLTgzLjU2NjcwMzc5NjM4NjcyXSwgWzAuMzMzMjk5OTk0NDY4Njg4OTYsIC03OS40NjY2OTc2OTI4NzExXSwgWy0xLjUzMzMwMDA0MjE1MjQwNDgsIC03OS43NV0sIFstMC40NjY2OTk5ODc2NDk5MTc2LCAtNzkuNTk5OTk4NDc0MTIxMV0sIFs5LjIxNjY5OTYwMDIxOTcyNywgLTc5LjkwMDAwMTUyNTg3ODldLCBbOC4xNjY3MDAzNjMxNTkxOCwgLTc3LjMwMDAwMzA1MTc1NzgxXSwgWzguMTAwMDAwMzgxNDY5NzI3LCAtNzcuNzVdLCBbOS4xNDk5OTk2MTg1MzAyNzMsIC03OS44NDk5OTg0NzQxMjExXSwgWzguODY2NzAwMTcyNDI0MzE2LCAtNzkuODAwMDAzMDUxNzU3ODFdLCBbLTQuNjUwMDAwMDk1MzY3NDMyLCAtNzcuMTE2Njk5MjE4NzVdLCBbLTIuMzY2Njk5OTM0MDA1NzM3MywgLTc0LjA4MzI5NzcyOTQ5MjE5XSwgWy0zLjc2NjcwMDAyOTM3MzE2OSwgLTczLjI1XSwgWy0zLjQzMzMwMDAxODMxMDU0NywgLTcyLjEzMzMwMDc4MTI1XSwgWy00LjY5OTk5OTgwOTI2NTEzNywgLTc0LjIxNjY5NzY5Mjg3MTFdLCBbMy4xNjY2OTk4ODYzMjIwMjE1LCAtNjUuNTUwMDAzMDUxNzU3ODFdLCBbMy4wODMzMDAxMTM2Nzc5Nzg1LCAtNjUuOTE2NzAyMjcwNTA3ODFdLCBbMTAuNTMzMzAwMzk5NzgwMjczLCAtNjguMzgzMzAwNzgxMjVdLCBbOS4xNDk5OTk2MTg1MzAyNzMsIC03Mi41OTk5OTg0NzQxMjExXSwgWy0xNi43OTk5OTkyMzcwNjA1NDcsIC02NS4xMzMzMDA3ODEyNV0sIFstMTcuMzk5OTk5NjE4NTMwMjczLCAtNjMuODQ5OTk4NDc0MTIxMDk0XSwgWy0yLjU5OTk5OTkwNDYzMjU2ODQsIC01Ni43MzMyOTkyNTUzNzEwOTRdLCBbLTMuMTMzMzAwMDY1OTk0MjYyNywgLTYwLjAxNjcwMDc0NDYyODkwNl0sIFstMTkuMzMzMjk5NjM2ODQwODIsIC00MC4wNjY2OTk5ODE2ODk0NV0sIFstMS4wLCAtNDkuNV0sIFstMS45MTY3MDAwMDU1MzEzMTEsIC01NS41NDk5OTkyMzcwNjA1NV0sIFstMS43MDAwMDAwNDc2ODM3MTU4LCAtNTIuMjAwMDAwNzYyOTM5NDVdLCBbLTMuNjY2Njk5ODg2MzIyMDIxNSwgLTU1LjVdLCBbLTIuODMzMzAwMTEzNjc3OTc4NSwgLTU1LjEzMzMwMDc4MTI1XSwgWy0yLjY4MzMwMDAxODMxMDU0NywgLTQ5LjY4MzMwMDAxODMxMDU1XSwgWzcuMDE2Njk5NzkwOTU0NTksIC03Ni4yNjY3MDA3NDQ2Mjg5XSwgWzYuMjUsIC03NS41ODMyOTc3Mjk0OTIxOV0sIFs4LjEwMDAwMDM4MTQ2OTcyNywgLTc2LjcxNjY5NzY5Mjg3MTFdLCBbOS45NjY2OTk2MDAyMTk3MjcsIC03NS4wNjY3MDM3OTYzODY3Ml0sIFsxMC4xNDk5OTk2MTg1MzAyNzMsIC03My40MzMyOTYyMDM2MTMyOF0sIFs3LjExNjcwMDE3MjQyNDMxNiwgLTc3Ljc2NjcwMDc0NDYyODldLCBbNS4wNTAwMDAxOTA3MzQ4NjMsIC03Ni45NDk5OTY5NDgyNDIxOV0sIFsxMi4zNTAwMDAzODE0Njk3MjcsIC03MS4zMTY3MDM3OTYzODY3Ml0sIFs4LjUsIC03Mi41ODMyOTc3Mjk0OTIxOV0sIFstMC4yMDAwMDAwMDI5ODAyMzIyNCwgLTc0Ljc2NjcwMDc0NDYyODldLCBbMC40NjY2OTk5ODc2NDk5MTc2LCAtNzUuMzMzMjk3NzI5NDkyMTldLCBbOS41LCAtNzUuMzQ5OTk4NDc0MTIxMV0sIFszLjY4MzMwMDAxODMxMDU0NywgLTc3LjA4MzI5NzcyOTQ5MjE5XSwgWzguOTQ5OTk5ODA5MjY1MTM3LCAtODMuNDY2Njk3NjkyODcxMV0sIFsxMy4xODMzMDAwMTgzMTA1NDcsIC04NS45MzMyOTYyMDM2MTMyOF0sIFsxMC45MzMzMDAwMTgzMTA1NDcsIC04My42OTk5OTY5NDgyNDIxOV0sIFsxMi4xNDk5OTk2MTg1MzAyNzMsIC04My43NjY3MDA3NDQ2Mjg5XSwgWzcuOTY2NzAwMDc3MDU2ODg1LCAtNzguMzY2Njk5MjE4NzVdLCBbNy45ODMzMDAyMDkwNDU0MSwgLTc3LjQzMzI5NjIwMzYxMzI4XSwgWzguODk5OTk5NjE4NTMwMjczLCAtNzkuNTk5OTk4NDc0MTIxMV0sIFstMy4zMTY2OTk5ODE2ODk0NTMsIC03Mi4wOTk5OTg0NzQxMjExXSwgWy0zLjQzMzMwMDAxODMxMDU0NywgLTcyLjEzMzMwMDc4MTI1XSwgWy02LjczMzMwMDIwOTA0NTQxLCAtNzUuMDk5OTk4NDc0MTIxMV0sIFsxMC4zNjY3MDAxNzI0MjQzMTYsIC02Ni44MzMyOTc3Mjk0OTIxOV0sIFstMTAuMzgzMjk5ODI3NTc1Njg0LCAtNjUuMzgzMzAwNzgxMjVdLCBbLTE2Ljc5OTk5OTIzNzA2MDU0NywgLTY1LjEzMzMwMDc4MTI1XSwgWy0zLjcwMDAwMDA0NzY4MzcxNiwgLTU5LjEzMzMwMDc4MTI1XSwgWy0zLjgzMzMwMDExMzY3Nzk3ODUsIC02Mi4wODMzMDE1NDQxODk0NV0sIFstMS45MTY3MDAwMDU1MzEzMTEsIC01NS41NDk5OTkyMzcwNjA1NV0sIFstMy42NjY2OTk4ODYzMjIwMjE1LCAtNTUuNV0sIFstMi40MzMzMDAwMTgzMTA1NDcsIC01NS4wXSwgWy0zLjA4MzMwMDExMzY3Nzk3ODUsIC01NS4wOTk5OTg0NzQxMjEwOTRdLCBbLTIuNjgzMzAwMDE4MzEwNTQ3LCAtNDkuNjgzMzAwMDE4MzEwNTVdLCBbLTQuMTUwMDAwMDk1MzY3NDMyLCAtNjkuOTQ5OTk2OTQ4MjQyMTldLCBbNy4zNDk5OTk5MDQ2MzI1NjgsIC03NS4wNTAwMDMwNTE3NTc4MV0sIFsxMC4zMDAwMDAxOTA3MzQ4NjMsIC03NC4wXSwgWzEwLjE0OTk5OTYxODUzMDI3MywgLTczLjQzMzI5NjIwMzYxMzI4XSwgWzUuNjk5OTk5ODA5MjY1MTM3LCAtNzYuNjY2NzAyMjcwNTA3ODFdLCBbNS4wNTAwMDAxOTA3MzQ4NjMsIC03Ni45NDk5OTY5NDgyNDIxOV0sIFs4LjI4MzMwMDM5OTc4MDI3MywgLTc1LjY4MzI5NjIwMzYxMzI4XSwgWzMuODY2Njk5OTM0MDA1NzM3MywgLTY3LjkzMzI5NjIwMzYxMzI4XSwgWzcuOTAwMDAwMDk1MzY3NDMyLCAtNzIuNTE2NzAwNzQ0NjI4OV0sIFs3LjE2NjY5OTg4NjMyMjAyMTUsIC03My45MTY3MDIyNzA1MDc4MV0sIFs5LjUsIC03NS4zNDk5OTg0NzQxMjExXSwgWzkuOTE2NzAwMzYzMTU5MTgsIC04My41NjY3MDM3OTYzODY3Ml0sIFs4Ljk0OTk5OTgwOTI2NTEzNywgLTgzLjQ2NjY5NzY5Mjg3MTFdLCBbMC4zMzMyOTk5OTQ0Njg2ODg5NiwgLTc5LjQ2NjY5NzY5Mjg3MTFdLCBbMTMuMTgzMzAwMDE4MzEwNTQ3LCAtODUuOTMzMjk2MjAzNjEzMjhdLCBbOS4zMDAwMDAxOTA3MzQ4NjMsIC04Mi40MDAwMDE1MjU4Nzg5XSwgWzkuMjUsIC03OS45ODMyOTkyNTUzNzExXSwgWzkuMjE2Njk5NjAwMjE5NzI3LCAtNzkuOTAwMDAxNTI1ODc4OV0sIFs5LjI4MzMwMDM5OTc4MDI3MywgLTc5LjU5OTk5ODQ3NDEyMTFdLCBbOC4wLCAtNzcuNTk5OTk4NDc0MTIxMV0sIFs3Ljk2NjcwMDA3NzA1Njg4NSwgLTc4LjM2NjY5OTIxODc1XSwgWzkuMjMzMzAwMjA5MDQ1NDEsIC03OS4zNDk5OTg0NzQxMjExXSwgWy00LjgzMzMwMDExMzY3Nzk3ODUsIC03NC4yMTY2OTc2OTI4NzExXSwgWzMuMDgzMzAwMTEzNjc3OTc4NSwgLTY1LjkxNjcwMjI3MDUwNzgxXSwgWzEwLjM2NjcwMDE3MjQyNDMxNiwgLTY2LjgzMzI5NzcyOTQ5MjE5XSwgWzkuMTQ5OTk5NjE4NTMwMjczLCAtNzIuNTk5OTk4NDc0MTIxMV0sIFstMTcuMzk5OTk5NjE4NTMwMjczLCAtNjMuODQ5OTk4NDc0MTIxMDk0XSwgWy0xNi4wLCAtNjQuNDE2NzAyMjcwNTA3ODFdLCBbLTMuMTMzMzAwMDY1OTk0MjYyNywgLTYwLjA4MzMwMTU0NDE4OTQ1XSwgWy0zLjgzMzMwMDExMzY3Nzk3ODUsIC02Mi4wODMzMDE1NDQxODk0NV0sIFstMTkuMzMzMjk5NjM2ODQwODIsIC00MC4wNjY2OTk5ODE2ODk0NV0sIFstMy42NjY2OTk4ODYzMjIwMjE1LCAtNTUuNV0sIFstMi40MzMzMDAwMTgzMTA1NDcsIC01NS4wXSwgWy0zLjQ1MDAwMDA0NzY4MzcxNiwgLTU1LjI4MzI5ODQ5MjQzMTY0XSwgWy00LjE1MDAwMDA5NTM2NzQzMiwgLTY5Ljk0OTk5Njk0ODI0MjE5XSwgWzcuMDE2Njk5NzkwOTU0NTksIC03Ni4yNjY3MDA3NDQ2Mjg5XSwgWzYuMjUsIC03NS41ODMyOTc3Mjk0OTIxOV0sIFs1LjA5OTk5OTkwNDYzMjU2OCwgLTc2LjY4MzI5NjIwMzYxMzI4XSwgWzcuNjY2Njk5ODg2MzIyMDIxNSwgLTc3LjE2NjcwMjI3MDUwNzgxXSwgWzguMjgzMzAwMzk5NzgwMjczLCAtNzUuNjgzMjk2MjAzNjEzMjhdLCBbOS4xMTY3MDAxNzI0MjQzMTYsIC03NC43MzMyOTkyNTUzNzExXSwgWzQuNTgzMzAwMTEzNjc3OTc4NSwgLTc0LjMwMDAwMzA1MTc1NzgxXSwgWzEyLjM1MDAwMDM4MTQ2OTcyNywgLTcxLjMxNjcwMzc5NjM4NjcyXSwgWzAuNDY2Njk5OTg3NjQ5OTE3NiwgLTc1LjMzMzI5NzcyOTQ5MjE5XSwgWzEwLjMzMzI5OTYzNjg0MDgyLCAtODQuNV0sIFs5LjkxNjcwMDM2MzE1OTE4LCAtODMuNTY2NzAzNzk2Mzg2NzJdLCBbLTEuNTMzMzAwMDQyMTUyNDA0OCwgLTc5Ljc1XSwgWy0wLjY5OTk5OTk4ODA3OTA3MSwgLTc3LjEzMzMwMDc4MTI1XSwgWzEzLjk0OTk5OTgwOTI2NTEzNywgLTg0LjUzMzMwMjMwNzEyODldLCBbOC45MzMzMDAwMTgzMTA1NDcsIC04MS44MDAwMDMwNTE3NTc4MV0sIFs5LjYwMDAwMDM4MTQ2OTcyNywgLTgyLjc4MzMwMjMwNzEyODldLCBbOS4xODMzMDAwMTgzMTA1NDcsIC04Mi4yNV0sIFs5LjE2NjcwMDM2MzE1OTE4LCAtNzkuODE2NzAzNzk2Mzg2NzJdLCBbOS4yNSwgLTc5LjkzMzI5NjIwMzYxMzI4XSwgWzkuMjUsIC03OS45ODMyOTkyNTUzNzExXSwgWzguMCwgLTc3LjU5OTk5ODQ3NDEyMTFdLCBbOS4yMzMzMDAyMDkwNDU0MSwgLTc5LjM0OTk5ODQ3NDEyMTFdLCBbLTMuNzY2NzAwMDI5MzczMTY5LCAtNzMuMjVdLCBbLTMuMzE2Njk5OTgxNjg5NDUzLCAtNzIuMDk5OTk4NDc0MTIxMV0sIFstNC42OTk5OTk4MDkyNjUxMzcsIC03NC4yMTY2OTc2OTI4NzExXSwgWzkuMTQ5OTk5NjE4NTMwMjczLCAtNzIuNTk5OTk4NDc0MTIxMV1dLAogICAgICAgICAgICAgICAgewogICAgICAgICAgICAgICAgICAgIG1pbk9wYWNpdHk6IDAuNSwKICAgICAgICAgICAgICAgICAgICBtYXhab29tOiAxOCwKICAgICAgICAgICAgICAgICAgICBtYXg6IDEuMCwKICAgICAgICAgICAgICAgICAgICByYWRpdXM6IDI1LAogICAgICAgICAgICAgICAgICAgIGJsdXI6IDE1LAogICAgICAgICAgICAgICAgICAgIGdyYWRpZW50OiBudWxsCiAgICAgICAgICAgICAgICAgICAgfSkKICAgICAgICAgICAgICAgIC5hZGRUbyhtYXBfMGQ4OTA3YzJkY2Y2NGRmN2JjYzY1YWMxZGQ4MDcyNmYpOwogICAgICAgIAo8L3NjcmlwdD4=\" style=\"position:absolute;width:100%;height:100%;left:0;top:0;border:none !important;\" allowfullscreen webkitallowfullscreen mozallowfullscreen></iframe></div></div>"
      ],
      "text/plain": [
       "<folium.folium.Map at 0x19d61418358>"
      ]
     },
     "execution_count": 17,
     "metadata": {},
     "output_type": "execute_result"
    }
   ],
   "source": [
    "data = df[df['species']=='bradypus_variegatus'][['dd lat','dd long']].values.tolist()\n",
    "m = folium.Map(location= center_vals, tiles='Stamen Terrain', zoom_start=4)\n",
    "HeatMap(data).add_to(m)\n",
    "m"
   ]
  },
  {
   "cell_type": "markdown",
   "metadata": {},
   "source": [
    "## Forest Small Rice Rat distribution heatmap"
   ]
  },
  {
   "cell_type": "code",
   "execution_count": 18,
   "metadata": {},
   "outputs": [
    {
     "data": {
      "text/html": [
       "<div style=\"width:100%;\"><div style=\"position:relative;width:100%;height:0;padding-bottom:60%;\"><iframe src=\"data:text/html;charset=utf-8;base64,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\" style=\"position:absolute;width:100%;height:100%;left:0;top:0;border:none !important;\" allowfullscreen webkitallowfullscreen mozallowfullscreen></iframe></div></div>"
      ],
      "text/plain": [
       "<folium.folium.Map at 0x19d6156a908>"
      ]
     },
     "execution_count": 18,
     "metadata": {},
     "output_type": "execute_result"
    }
   ],
   "source": [
    "data = df[df['species']=='microryzomys_minutus'][['dd lat','dd long']].values.tolist()\n",
    "m = folium.Map(location= center_vals,tiles='Stamen Terrain', zoom_start=4)\n",
    "HeatMap(data).add_to(m)\n",
    "m"
   ]
  },
  {
   "cell_type": "code",
   "execution_count": null,
   "metadata": {},
   "outputs": [],
   "source": []
  }
 ],
 "metadata": {
  "kernelspec": {
   "display_name": "Python 3",
   "language": "python",
   "name": "python3"
  },
  "language_info": {
   "codemirror_mode": {
    "name": "ipython",
    "version": 3
   },
   "file_extension": ".py",
   "mimetype": "text/x-python",
   "name": "python",
   "nbconvert_exporter": "python",
   "pygments_lexer": "ipython3",
   "version": "3.7.0"
  }
 },
 "nbformat": 4,
 "nbformat_minor": 2
}
